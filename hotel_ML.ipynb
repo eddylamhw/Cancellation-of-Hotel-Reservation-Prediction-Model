{
 "cells": [
  {
   "cell_type": "code",
   "execution_count": 1,
   "metadata": {},
   "outputs": [],
   "source": [
    "import pandas as pd\n",
    "import numpy as np\n",
    "import matplotlib.pyplot as plt\n",
    "from sklearn.metrics import classification_report\n",
    "from sklearn.metrics import accuracy_score\n",
    "from sklearn.model_selection import GridSearchCV\n",
    "from sklearn.model_selection import RandomizedSearchCV"
   ]
  },
  {
   "cell_type": "code",
   "execution_count": 2,
   "metadata": {},
   "outputs": [],
   "source": [
    "def warn(*args, **kwargs):\n",
    "    pass\n",
    "import warnings\n",
    "warnings.warn = warn"
   ]
  },
  {
   "cell_type": "code",
   "execution_count": 3,
   "metadata": {},
   "outputs": [],
   "source": [
    "# Reading the csv for ML\n",
    "df = pd.read_csv('hotel_for_ML.csv')"
   ]
  },
  {
   "cell_type": "code",
   "execution_count": 4,
   "metadata": {},
   "outputs": [
    {
     "data": {
      "text/html": [
       "<div>\n",
       "<style scoped>\n",
       "    .dataframe tbody tr th:only-of-type {\n",
       "        vertical-align: middle;\n",
       "    }\n",
       "\n",
       "    .dataframe tbody tr th {\n",
       "        vertical-align: top;\n",
       "    }\n",
       "\n",
       "    .dataframe thead th {\n",
       "        text-align: right;\n",
       "    }\n",
       "</style>\n",
       "<table border=\"1\" class=\"dataframe\">\n",
       "  <thead>\n",
       "    <tr style=\"text-align: right;\">\n",
       "      <th></th>\n",
       "      <th>IsCanceled</th>\n",
       "      <th>LeadTime</th>\n",
       "      <th>ArrivalDate</th>\n",
       "      <th>ArrivalDateYear</th>\n",
       "      <th>ArrivalDateMonth</th>\n",
       "      <th>ArrivalDateWeekNumber</th>\n",
       "      <th>ArrivalDateDayOfMonth</th>\n",
       "      <th>StaysInWeekendNights</th>\n",
       "      <th>StaysInWeekNights</th>\n",
       "      <th>Adults</th>\n",
       "      <th>Children</th>\n",
       "      <th>Babies</th>\n",
       "      <th>Country</th>\n",
       "      <th>IsRepeatedGuest</th>\n",
       "      <th>PreviousCancellations</th>\n",
       "      <th>PreviousBookingsNotCanceled</th>\n",
       "      <th>ReservedRoomType</th>\n",
       "      <th>AssignedRoomType</th>\n",
       "      <th>BookingChanges</th>\n",
       "      <th>Agent</th>\n",
       "      <th>Company</th>\n",
       "      <th>DaysInWaitingList</th>\n",
       "      <th>ADR</th>\n",
       "      <th>RequiredCarParkingSpaces</th>\n",
       "      <th>TotalOfSpecialRequests</th>\n",
       "      <th>ReservationStatusDate</th>\n",
       "      <th>Hotel_City Hotel</th>\n",
       "      <th>Hotel_Resort Hotel</th>\n",
       "      <th>Meal_BB</th>\n",
       "      <th>Meal_FB</th>\n",
       "      <th>Meal_HB</th>\n",
       "      <th>Meal_SC</th>\n",
       "      <th>Meal_Undefined</th>\n",
       "      <th>MarketSegment_Aviation</th>\n",
       "      <th>MarketSegment_Complementary</th>\n",
       "      <th>MarketSegment_Corporate</th>\n",
       "      <th>MarketSegment_Direct</th>\n",
       "      <th>MarketSegment_Groups</th>\n",
       "      <th>MarketSegment_Offline TA/TO</th>\n",
       "      <th>MarketSegment_Online TA</th>\n",
       "      <th>MarketSegment_Undefined</th>\n",
       "      <th>DistributionChannel_Corporate</th>\n",
       "      <th>DistributionChannel_Direct</th>\n",
       "      <th>DistributionChannel_GDS</th>\n",
       "      <th>DistributionChannel_TA/TO</th>\n",
       "      <th>DistributionChannel_Undefined</th>\n",
       "      <th>DepositType_No Deposit</th>\n",
       "      <th>DepositType_Non Refund</th>\n",
       "      <th>DepositType_Refundable</th>\n",
       "      <th>CustomerType_Contract</th>\n",
       "      <th>CustomerType_Group</th>\n",
       "      <th>CustomerType_Transient</th>\n",
       "      <th>CustomerType_Transient-Party</th>\n",
       "      <th>ReservationStatus</th>\n",
       "    </tr>\n",
       "  </thead>\n",
       "  <tbody>\n",
       "    <tr>\n",
       "      <th>119385</th>\n",
       "      <td>0</td>\n",
       "      <td>23</td>\n",
       "      <td>2017-August</td>\n",
       "      <td>2017</td>\n",
       "      <td>7</td>\n",
       "      <td>35</td>\n",
       "      <td>30</td>\n",
       "      <td>2</td>\n",
       "      <td>5</td>\n",
       "      <td>2</td>\n",
       "      <td>0.0</td>\n",
       "      <td>0</td>\n",
       "      <td>15.0</td>\n",
       "      <td>0</td>\n",
       "      <td>0</td>\n",
       "      <td>0</td>\n",
       "      <td>0</td>\n",
       "      <td>0</td>\n",
       "      <td>0</td>\n",
       "      <td>217.0</td>\n",
       "      <td>0.0</td>\n",
       "      <td>0</td>\n",
       "      <td>96.14</td>\n",
       "      <td>0</td>\n",
       "      <td>0</td>\n",
       "      <td>2017-09-06</td>\n",
       "      <td>1</td>\n",
       "      <td>0</td>\n",
       "      <td>1</td>\n",
       "      <td>0</td>\n",
       "      <td>0</td>\n",
       "      <td>0</td>\n",
       "      <td>0</td>\n",
       "      <td>0</td>\n",
       "      <td>0</td>\n",
       "      <td>0</td>\n",
       "      <td>0</td>\n",
       "      <td>0</td>\n",
       "      <td>1</td>\n",
       "      <td>0</td>\n",
       "      <td>0</td>\n",
       "      <td>0</td>\n",
       "      <td>0</td>\n",
       "      <td>0</td>\n",
       "      <td>1</td>\n",
       "      <td>0</td>\n",
       "      <td>1</td>\n",
       "      <td>0</td>\n",
       "      <td>0</td>\n",
       "      <td>0</td>\n",
       "      <td>0</td>\n",
       "      <td>1</td>\n",
       "      <td>0</td>\n",
       "      <td>1</td>\n",
       "    </tr>\n",
       "    <tr>\n",
       "      <th>119386</th>\n",
       "      <td>0</td>\n",
       "      <td>102</td>\n",
       "      <td>2017-August</td>\n",
       "      <td>2017</td>\n",
       "      <td>7</td>\n",
       "      <td>35</td>\n",
       "      <td>31</td>\n",
       "      <td>2</td>\n",
       "      <td>5</td>\n",
       "      <td>3</td>\n",
       "      <td>0.0</td>\n",
       "      <td>0</td>\n",
       "      <td>56.0</td>\n",
       "      <td>0</td>\n",
       "      <td>0</td>\n",
       "      <td>0</td>\n",
       "      <td>4</td>\n",
       "      <td>4</td>\n",
       "      <td>0</td>\n",
       "      <td>324.0</td>\n",
       "      <td>0.0</td>\n",
       "      <td>0</td>\n",
       "      <td>225.43</td>\n",
       "      <td>0</td>\n",
       "      <td>2</td>\n",
       "      <td>2017-09-07</td>\n",
       "      <td>1</td>\n",
       "      <td>0</td>\n",
       "      <td>1</td>\n",
       "      <td>0</td>\n",
       "      <td>0</td>\n",
       "      <td>0</td>\n",
       "      <td>0</td>\n",
       "      <td>0</td>\n",
       "      <td>0</td>\n",
       "      <td>0</td>\n",
       "      <td>0</td>\n",
       "      <td>0</td>\n",
       "      <td>0</td>\n",
       "      <td>1</td>\n",
       "      <td>0</td>\n",
       "      <td>0</td>\n",
       "      <td>0</td>\n",
       "      <td>0</td>\n",
       "      <td>1</td>\n",
       "      <td>0</td>\n",
       "      <td>1</td>\n",
       "      <td>0</td>\n",
       "      <td>0</td>\n",
       "      <td>0</td>\n",
       "      <td>0</td>\n",
       "      <td>1</td>\n",
       "      <td>0</td>\n",
       "      <td>1</td>\n",
       "    </tr>\n",
       "    <tr>\n",
       "      <th>119387</th>\n",
       "      <td>0</td>\n",
       "      <td>34</td>\n",
       "      <td>2017-August</td>\n",
       "      <td>2017</td>\n",
       "      <td>7</td>\n",
       "      <td>35</td>\n",
       "      <td>31</td>\n",
       "      <td>2</td>\n",
       "      <td>5</td>\n",
       "      <td>2</td>\n",
       "      <td>0.0</td>\n",
       "      <td>0</td>\n",
       "      <td>43.0</td>\n",
       "      <td>0</td>\n",
       "      <td>0</td>\n",
       "      <td>0</td>\n",
       "      <td>3</td>\n",
       "      <td>3</td>\n",
       "      <td>0</td>\n",
       "      <td>324.0</td>\n",
       "      <td>0.0</td>\n",
       "      <td>0</td>\n",
       "      <td>157.71</td>\n",
       "      <td>0</td>\n",
       "      <td>4</td>\n",
       "      <td>2017-09-07</td>\n",
       "      <td>1</td>\n",
       "      <td>0</td>\n",
       "      <td>1</td>\n",
       "      <td>0</td>\n",
       "      <td>0</td>\n",
       "      <td>0</td>\n",
       "      <td>0</td>\n",
       "      <td>0</td>\n",
       "      <td>0</td>\n",
       "      <td>0</td>\n",
       "      <td>0</td>\n",
       "      <td>0</td>\n",
       "      <td>0</td>\n",
       "      <td>1</td>\n",
       "      <td>0</td>\n",
       "      <td>0</td>\n",
       "      <td>0</td>\n",
       "      <td>0</td>\n",
       "      <td>1</td>\n",
       "      <td>0</td>\n",
       "      <td>1</td>\n",
       "      <td>0</td>\n",
       "      <td>0</td>\n",
       "      <td>0</td>\n",
       "      <td>0</td>\n",
       "      <td>1</td>\n",
       "      <td>0</td>\n",
       "      <td>1</td>\n",
       "    </tr>\n",
       "    <tr>\n",
       "      <th>119388</th>\n",
       "      <td>0</td>\n",
       "      <td>109</td>\n",
       "      <td>2017-August</td>\n",
       "      <td>2017</td>\n",
       "      <td>7</td>\n",
       "      <td>35</td>\n",
       "      <td>31</td>\n",
       "      <td>2</td>\n",
       "      <td>5</td>\n",
       "      <td>2</td>\n",
       "      <td>0.0</td>\n",
       "      <td>0</td>\n",
       "      <td>59.0</td>\n",
       "      <td>0</td>\n",
       "      <td>0</td>\n",
       "      <td>0</td>\n",
       "      <td>0</td>\n",
       "      <td>0</td>\n",
       "      <td>0</td>\n",
       "      <td>323.0</td>\n",
       "      <td>0.0</td>\n",
       "      <td>0</td>\n",
       "      <td>104.40</td>\n",
       "      <td>0</td>\n",
       "      <td>0</td>\n",
       "      <td>2017-09-07</td>\n",
       "      <td>1</td>\n",
       "      <td>0</td>\n",
       "      <td>1</td>\n",
       "      <td>0</td>\n",
       "      <td>0</td>\n",
       "      <td>0</td>\n",
       "      <td>0</td>\n",
       "      <td>0</td>\n",
       "      <td>0</td>\n",
       "      <td>0</td>\n",
       "      <td>0</td>\n",
       "      <td>0</td>\n",
       "      <td>0</td>\n",
       "      <td>1</td>\n",
       "      <td>0</td>\n",
       "      <td>0</td>\n",
       "      <td>0</td>\n",
       "      <td>0</td>\n",
       "      <td>1</td>\n",
       "      <td>0</td>\n",
       "      <td>1</td>\n",
       "      <td>0</td>\n",
       "      <td>0</td>\n",
       "      <td>0</td>\n",
       "      <td>0</td>\n",
       "      <td>1</td>\n",
       "      <td>0</td>\n",
       "      <td>1</td>\n",
       "    </tr>\n",
       "    <tr>\n",
       "      <th>119389</th>\n",
       "      <td>0</td>\n",
       "      <td>205</td>\n",
       "      <td>2017-August</td>\n",
       "      <td>2017</td>\n",
       "      <td>7</td>\n",
       "      <td>35</td>\n",
       "      <td>29</td>\n",
       "      <td>2</td>\n",
       "      <td>7</td>\n",
       "      <td>2</td>\n",
       "      <td>0.0</td>\n",
       "      <td>0</td>\n",
       "      <td>43.0</td>\n",
       "      <td>0</td>\n",
       "      <td>0</td>\n",
       "      <td>0</td>\n",
       "      <td>0</td>\n",
       "      <td>0</td>\n",
       "      <td>0</td>\n",
       "      <td>324.0</td>\n",
       "      <td>0.0</td>\n",
       "      <td>0</td>\n",
       "      <td>151.20</td>\n",
       "      <td>0</td>\n",
       "      <td>2</td>\n",
       "      <td>2017-09-07</td>\n",
       "      <td>1</td>\n",
       "      <td>0</td>\n",
       "      <td>0</td>\n",
       "      <td>0</td>\n",
       "      <td>1</td>\n",
       "      <td>0</td>\n",
       "      <td>0</td>\n",
       "      <td>0</td>\n",
       "      <td>0</td>\n",
       "      <td>0</td>\n",
       "      <td>0</td>\n",
       "      <td>0</td>\n",
       "      <td>0</td>\n",
       "      <td>1</td>\n",
       "      <td>0</td>\n",
       "      <td>0</td>\n",
       "      <td>0</td>\n",
       "      <td>0</td>\n",
       "      <td>1</td>\n",
       "      <td>0</td>\n",
       "      <td>1</td>\n",
       "      <td>0</td>\n",
       "      <td>0</td>\n",
       "      <td>0</td>\n",
       "      <td>0</td>\n",
       "      <td>1</td>\n",
       "      <td>0</td>\n",
       "      <td>1</td>\n",
       "    </tr>\n",
       "  </tbody>\n",
       "</table>\n",
       "</div>"
      ],
      "text/plain": [
       "        IsCanceled  LeadTime  ArrivalDate  ArrivalDateYear  ArrivalDateMonth  \\\n",
       "119385           0        23  2017-August             2017                 7   \n",
       "119386           0       102  2017-August             2017                 7   \n",
       "119387           0        34  2017-August             2017                 7   \n",
       "119388           0       109  2017-August             2017                 7   \n",
       "119389           0       205  2017-August             2017                 7   \n",
       "\n",
       "        ArrivalDateWeekNumber  ArrivalDateDayOfMonth  StaysInWeekendNights  \\\n",
       "119385                     35                     30                     2   \n",
       "119386                     35                     31                     2   \n",
       "119387                     35                     31                     2   \n",
       "119388                     35                     31                     2   \n",
       "119389                     35                     29                     2   \n",
       "\n",
       "        StaysInWeekNights  Adults  Children  Babies  Country  IsRepeatedGuest  \\\n",
       "119385                  5       2       0.0       0     15.0                0   \n",
       "119386                  5       3       0.0       0     56.0                0   \n",
       "119387                  5       2       0.0       0     43.0                0   \n",
       "119388                  5       2       0.0       0     59.0                0   \n",
       "119389                  7       2       0.0       0     43.0                0   \n",
       "\n",
       "        PreviousCancellations  PreviousBookingsNotCanceled  ReservedRoomType  \\\n",
       "119385                      0                            0                 0   \n",
       "119386                      0                            0                 4   \n",
       "119387                      0                            0                 3   \n",
       "119388                      0                            0                 0   \n",
       "119389                      0                            0                 0   \n",
       "\n",
       "        AssignedRoomType  BookingChanges  Agent  Company  DaysInWaitingList  \\\n",
       "119385                 0               0  217.0      0.0                  0   \n",
       "119386                 4               0  324.0      0.0                  0   \n",
       "119387                 3               0  324.0      0.0                  0   \n",
       "119388                 0               0  323.0      0.0                  0   \n",
       "119389                 0               0  324.0      0.0                  0   \n",
       "\n",
       "           ADR  RequiredCarParkingSpaces  TotalOfSpecialRequests  \\\n",
       "119385   96.14                         0                       0   \n",
       "119386  225.43                         0                       2   \n",
       "119387  157.71                         0                       4   \n",
       "119388  104.40                         0                       0   \n",
       "119389  151.20                         0                       2   \n",
       "\n",
       "       ReservationStatusDate  Hotel_City Hotel  Hotel_Resort Hotel  \\\n",
       "119385            2017-09-06                 1                   0   \n",
       "119386            2017-09-07                 1                   0   \n",
       "119387            2017-09-07                 1                   0   \n",
       "119388            2017-09-07                 1                   0   \n",
       "119389            2017-09-07                 1                   0   \n",
       "\n",
       "        Meal_BB         Meal_FB         Meal_HB         Meal_SC         \\\n",
       "119385               1               0               0               0   \n",
       "119386               1               0               0               0   \n",
       "119387               1               0               0               0   \n",
       "119388               1               0               0               0   \n",
       "119389               0               0               1               0   \n",
       "\n",
       "        Meal_Undefined  MarketSegment_Aviation  MarketSegment_Complementary  \\\n",
       "119385               0                       0                            0   \n",
       "119386               0                       0                            0   \n",
       "119387               0                       0                            0   \n",
       "119388               0                       0                            0   \n",
       "119389               0                       0                            0   \n",
       "\n",
       "        MarketSegment_Corporate  MarketSegment_Direct  MarketSegment_Groups  \\\n",
       "119385                        0                     0                     0   \n",
       "119386                        0                     0                     0   \n",
       "119387                        0                     0                     0   \n",
       "119388                        0                     0                     0   \n",
       "119389                        0                     0                     0   \n",
       "\n",
       "        MarketSegment_Offline TA/TO  MarketSegment_Online TA  \\\n",
       "119385                            1                        0   \n",
       "119386                            0                        1   \n",
       "119387                            0                        1   \n",
       "119388                            0                        1   \n",
       "119389                            0                        1   \n",
       "\n",
       "        MarketSegment_Undefined  DistributionChannel_Corporate  \\\n",
       "119385                        0                              0   \n",
       "119386                        0                              0   \n",
       "119387                        0                              0   \n",
       "119388                        0                              0   \n",
       "119389                        0                              0   \n",
       "\n",
       "        DistributionChannel_Direct  DistributionChannel_GDS  \\\n",
       "119385                           0                        0   \n",
       "119386                           0                        0   \n",
       "119387                           0                        0   \n",
       "119388                           0                        0   \n",
       "119389                           0                        0   \n",
       "\n",
       "        DistributionChannel_TA/TO  DistributionChannel_Undefined  \\\n",
       "119385                          1                              0   \n",
       "119386                          1                              0   \n",
       "119387                          1                              0   \n",
       "119388                          1                              0   \n",
       "119389                          1                              0   \n",
       "\n",
       "        DepositType_No Deposit       DepositType_Non Refund       \\\n",
       "119385                            1                            0   \n",
       "119386                            1                            0   \n",
       "119387                            1                            0   \n",
       "119388                            1                            0   \n",
       "119389                            1                            0   \n",
       "\n",
       "        DepositType_Refundable       CustomerType_Contract  \\\n",
       "119385                            0                      0   \n",
       "119386                            0                      0   \n",
       "119387                            0                      0   \n",
       "119388                            0                      0   \n",
       "119389                            0                      0   \n",
       "\n",
       "        CustomerType_Group  CustomerType_Transient  \\\n",
       "119385                   0                       1   \n",
       "119386                   0                       1   \n",
       "119387                   0                       1   \n",
       "119388                   0                       1   \n",
       "119389                   0                       1   \n",
       "\n",
       "        CustomerType_Transient-Party  ReservationStatus  \n",
       "119385                             0                  1  \n",
       "119386                             0                  1  \n",
       "119387                             0                  1  \n",
       "119388                             0                  1  \n",
       "119389                             0                  1  "
      ]
     },
     "execution_count": 4,
     "metadata": {},
     "output_type": "execute_result"
    }
   ],
   "source": [
    "pd.set_option(\"display.max_columns\",None)\n",
    "df.tail()"
   ]
  },
  {
   "cell_type": "code",
   "execution_count": 5,
   "metadata": {},
   "outputs": [],
   "source": [
    "df = df.drop(columns=['ArrivalDate','ReservationStatusDate'])"
   ]
  },
  {
   "cell_type": "code",
   "execution_count": 6,
   "metadata": {},
   "outputs": [
    {
     "data": {
      "text/html": [
       "<div>\n",
       "<style scoped>\n",
       "    .dataframe tbody tr th:only-of-type {\n",
       "        vertical-align: middle;\n",
       "    }\n",
       "\n",
       "    .dataframe tbody tr th {\n",
       "        vertical-align: top;\n",
       "    }\n",
       "\n",
       "    .dataframe thead th {\n",
       "        text-align: right;\n",
       "    }\n",
       "</style>\n",
       "<table border=\"1\" class=\"dataframe\">\n",
       "  <thead>\n",
       "    <tr style=\"text-align: right;\">\n",
       "      <th></th>\n",
       "      <th>IsCanceled</th>\n",
       "      <th>LeadTime</th>\n",
       "      <th>ArrivalDateYear</th>\n",
       "      <th>ArrivalDateMonth</th>\n",
       "      <th>ArrivalDateWeekNumber</th>\n",
       "      <th>ArrivalDateDayOfMonth</th>\n",
       "      <th>StaysInWeekendNights</th>\n",
       "      <th>StaysInWeekNights</th>\n",
       "      <th>Adults</th>\n",
       "      <th>Children</th>\n",
       "      <th>Babies</th>\n",
       "      <th>Country</th>\n",
       "      <th>IsRepeatedGuest</th>\n",
       "      <th>PreviousCancellations</th>\n",
       "      <th>PreviousBookingsNotCanceled</th>\n",
       "      <th>ReservedRoomType</th>\n",
       "      <th>AssignedRoomType</th>\n",
       "      <th>BookingChanges</th>\n",
       "      <th>Agent</th>\n",
       "      <th>Company</th>\n",
       "      <th>DaysInWaitingList</th>\n",
       "      <th>ADR</th>\n",
       "      <th>RequiredCarParkingSpaces</th>\n",
       "      <th>TotalOfSpecialRequests</th>\n",
       "      <th>Hotel_City Hotel</th>\n",
       "      <th>Hotel_Resort Hotel</th>\n",
       "      <th>Meal_BB</th>\n",
       "      <th>Meal_FB</th>\n",
       "      <th>Meal_HB</th>\n",
       "      <th>Meal_SC</th>\n",
       "      <th>Meal_Undefined</th>\n",
       "      <th>MarketSegment_Aviation</th>\n",
       "      <th>MarketSegment_Complementary</th>\n",
       "      <th>MarketSegment_Corporate</th>\n",
       "      <th>MarketSegment_Direct</th>\n",
       "      <th>MarketSegment_Groups</th>\n",
       "      <th>MarketSegment_Offline TA/TO</th>\n",
       "      <th>MarketSegment_Online TA</th>\n",
       "      <th>MarketSegment_Undefined</th>\n",
       "      <th>DistributionChannel_Corporate</th>\n",
       "      <th>DistributionChannel_Direct</th>\n",
       "      <th>DistributionChannel_GDS</th>\n",
       "      <th>DistributionChannel_TA/TO</th>\n",
       "      <th>DistributionChannel_Undefined</th>\n",
       "      <th>DepositType_No Deposit</th>\n",
       "      <th>DepositType_Non Refund</th>\n",
       "      <th>DepositType_Refundable</th>\n",
       "      <th>CustomerType_Contract</th>\n",
       "      <th>CustomerType_Group</th>\n",
       "      <th>CustomerType_Transient</th>\n",
       "      <th>CustomerType_Transient-Party</th>\n",
       "      <th>ReservationStatus</th>\n",
       "    </tr>\n",
       "  </thead>\n",
       "  <tbody>\n",
       "    <tr>\n",
       "      <th>119385</th>\n",
       "      <td>0</td>\n",
       "      <td>23</td>\n",
       "      <td>2017</td>\n",
       "      <td>7</td>\n",
       "      <td>35</td>\n",
       "      <td>30</td>\n",
       "      <td>2</td>\n",
       "      <td>5</td>\n",
       "      <td>2</td>\n",
       "      <td>0.0</td>\n",
       "      <td>0</td>\n",
       "      <td>15.0</td>\n",
       "      <td>0</td>\n",
       "      <td>0</td>\n",
       "      <td>0</td>\n",
       "      <td>0</td>\n",
       "      <td>0</td>\n",
       "      <td>0</td>\n",
       "      <td>217.0</td>\n",
       "      <td>0.0</td>\n",
       "      <td>0</td>\n",
       "      <td>96.14</td>\n",
       "      <td>0</td>\n",
       "      <td>0</td>\n",
       "      <td>1</td>\n",
       "      <td>0</td>\n",
       "      <td>1</td>\n",
       "      <td>0</td>\n",
       "      <td>0</td>\n",
       "      <td>0</td>\n",
       "      <td>0</td>\n",
       "      <td>0</td>\n",
       "      <td>0</td>\n",
       "      <td>0</td>\n",
       "      <td>0</td>\n",
       "      <td>0</td>\n",
       "      <td>1</td>\n",
       "      <td>0</td>\n",
       "      <td>0</td>\n",
       "      <td>0</td>\n",
       "      <td>0</td>\n",
       "      <td>0</td>\n",
       "      <td>1</td>\n",
       "      <td>0</td>\n",
       "      <td>1</td>\n",
       "      <td>0</td>\n",
       "      <td>0</td>\n",
       "      <td>0</td>\n",
       "      <td>0</td>\n",
       "      <td>1</td>\n",
       "      <td>0</td>\n",
       "      <td>1</td>\n",
       "    </tr>\n",
       "    <tr>\n",
       "      <th>119386</th>\n",
       "      <td>0</td>\n",
       "      <td>102</td>\n",
       "      <td>2017</td>\n",
       "      <td>7</td>\n",
       "      <td>35</td>\n",
       "      <td>31</td>\n",
       "      <td>2</td>\n",
       "      <td>5</td>\n",
       "      <td>3</td>\n",
       "      <td>0.0</td>\n",
       "      <td>0</td>\n",
       "      <td>56.0</td>\n",
       "      <td>0</td>\n",
       "      <td>0</td>\n",
       "      <td>0</td>\n",
       "      <td>4</td>\n",
       "      <td>4</td>\n",
       "      <td>0</td>\n",
       "      <td>324.0</td>\n",
       "      <td>0.0</td>\n",
       "      <td>0</td>\n",
       "      <td>225.43</td>\n",
       "      <td>0</td>\n",
       "      <td>2</td>\n",
       "      <td>1</td>\n",
       "      <td>0</td>\n",
       "      <td>1</td>\n",
       "      <td>0</td>\n",
       "      <td>0</td>\n",
       "      <td>0</td>\n",
       "      <td>0</td>\n",
       "      <td>0</td>\n",
       "      <td>0</td>\n",
       "      <td>0</td>\n",
       "      <td>0</td>\n",
       "      <td>0</td>\n",
       "      <td>0</td>\n",
       "      <td>1</td>\n",
       "      <td>0</td>\n",
       "      <td>0</td>\n",
       "      <td>0</td>\n",
       "      <td>0</td>\n",
       "      <td>1</td>\n",
       "      <td>0</td>\n",
       "      <td>1</td>\n",
       "      <td>0</td>\n",
       "      <td>0</td>\n",
       "      <td>0</td>\n",
       "      <td>0</td>\n",
       "      <td>1</td>\n",
       "      <td>0</td>\n",
       "      <td>1</td>\n",
       "    </tr>\n",
       "    <tr>\n",
       "      <th>119387</th>\n",
       "      <td>0</td>\n",
       "      <td>34</td>\n",
       "      <td>2017</td>\n",
       "      <td>7</td>\n",
       "      <td>35</td>\n",
       "      <td>31</td>\n",
       "      <td>2</td>\n",
       "      <td>5</td>\n",
       "      <td>2</td>\n",
       "      <td>0.0</td>\n",
       "      <td>0</td>\n",
       "      <td>43.0</td>\n",
       "      <td>0</td>\n",
       "      <td>0</td>\n",
       "      <td>0</td>\n",
       "      <td>3</td>\n",
       "      <td>3</td>\n",
       "      <td>0</td>\n",
       "      <td>324.0</td>\n",
       "      <td>0.0</td>\n",
       "      <td>0</td>\n",
       "      <td>157.71</td>\n",
       "      <td>0</td>\n",
       "      <td>4</td>\n",
       "      <td>1</td>\n",
       "      <td>0</td>\n",
       "      <td>1</td>\n",
       "      <td>0</td>\n",
       "      <td>0</td>\n",
       "      <td>0</td>\n",
       "      <td>0</td>\n",
       "      <td>0</td>\n",
       "      <td>0</td>\n",
       "      <td>0</td>\n",
       "      <td>0</td>\n",
       "      <td>0</td>\n",
       "      <td>0</td>\n",
       "      <td>1</td>\n",
       "      <td>0</td>\n",
       "      <td>0</td>\n",
       "      <td>0</td>\n",
       "      <td>0</td>\n",
       "      <td>1</td>\n",
       "      <td>0</td>\n",
       "      <td>1</td>\n",
       "      <td>0</td>\n",
       "      <td>0</td>\n",
       "      <td>0</td>\n",
       "      <td>0</td>\n",
       "      <td>1</td>\n",
       "      <td>0</td>\n",
       "      <td>1</td>\n",
       "    </tr>\n",
       "    <tr>\n",
       "      <th>119388</th>\n",
       "      <td>0</td>\n",
       "      <td>109</td>\n",
       "      <td>2017</td>\n",
       "      <td>7</td>\n",
       "      <td>35</td>\n",
       "      <td>31</td>\n",
       "      <td>2</td>\n",
       "      <td>5</td>\n",
       "      <td>2</td>\n",
       "      <td>0.0</td>\n",
       "      <td>0</td>\n",
       "      <td>59.0</td>\n",
       "      <td>0</td>\n",
       "      <td>0</td>\n",
       "      <td>0</td>\n",
       "      <td>0</td>\n",
       "      <td>0</td>\n",
       "      <td>0</td>\n",
       "      <td>323.0</td>\n",
       "      <td>0.0</td>\n",
       "      <td>0</td>\n",
       "      <td>104.40</td>\n",
       "      <td>0</td>\n",
       "      <td>0</td>\n",
       "      <td>1</td>\n",
       "      <td>0</td>\n",
       "      <td>1</td>\n",
       "      <td>0</td>\n",
       "      <td>0</td>\n",
       "      <td>0</td>\n",
       "      <td>0</td>\n",
       "      <td>0</td>\n",
       "      <td>0</td>\n",
       "      <td>0</td>\n",
       "      <td>0</td>\n",
       "      <td>0</td>\n",
       "      <td>0</td>\n",
       "      <td>1</td>\n",
       "      <td>0</td>\n",
       "      <td>0</td>\n",
       "      <td>0</td>\n",
       "      <td>0</td>\n",
       "      <td>1</td>\n",
       "      <td>0</td>\n",
       "      <td>1</td>\n",
       "      <td>0</td>\n",
       "      <td>0</td>\n",
       "      <td>0</td>\n",
       "      <td>0</td>\n",
       "      <td>1</td>\n",
       "      <td>0</td>\n",
       "      <td>1</td>\n",
       "    </tr>\n",
       "    <tr>\n",
       "      <th>119389</th>\n",
       "      <td>0</td>\n",
       "      <td>205</td>\n",
       "      <td>2017</td>\n",
       "      <td>7</td>\n",
       "      <td>35</td>\n",
       "      <td>29</td>\n",
       "      <td>2</td>\n",
       "      <td>7</td>\n",
       "      <td>2</td>\n",
       "      <td>0.0</td>\n",
       "      <td>0</td>\n",
       "      <td>43.0</td>\n",
       "      <td>0</td>\n",
       "      <td>0</td>\n",
       "      <td>0</td>\n",
       "      <td>0</td>\n",
       "      <td>0</td>\n",
       "      <td>0</td>\n",
       "      <td>324.0</td>\n",
       "      <td>0.0</td>\n",
       "      <td>0</td>\n",
       "      <td>151.20</td>\n",
       "      <td>0</td>\n",
       "      <td>2</td>\n",
       "      <td>1</td>\n",
       "      <td>0</td>\n",
       "      <td>0</td>\n",
       "      <td>0</td>\n",
       "      <td>1</td>\n",
       "      <td>0</td>\n",
       "      <td>0</td>\n",
       "      <td>0</td>\n",
       "      <td>0</td>\n",
       "      <td>0</td>\n",
       "      <td>0</td>\n",
       "      <td>0</td>\n",
       "      <td>0</td>\n",
       "      <td>1</td>\n",
       "      <td>0</td>\n",
       "      <td>0</td>\n",
       "      <td>0</td>\n",
       "      <td>0</td>\n",
       "      <td>1</td>\n",
       "      <td>0</td>\n",
       "      <td>1</td>\n",
       "      <td>0</td>\n",
       "      <td>0</td>\n",
       "      <td>0</td>\n",
       "      <td>0</td>\n",
       "      <td>1</td>\n",
       "      <td>0</td>\n",
       "      <td>1</td>\n",
       "    </tr>\n",
       "  </tbody>\n",
       "</table>\n",
       "</div>"
      ],
      "text/plain": [
       "        IsCanceled  LeadTime  ArrivalDateYear  ArrivalDateMonth  \\\n",
       "119385           0        23             2017                 7   \n",
       "119386           0       102             2017                 7   \n",
       "119387           0        34             2017                 7   \n",
       "119388           0       109             2017                 7   \n",
       "119389           0       205             2017                 7   \n",
       "\n",
       "        ArrivalDateWeekNumber  ArrivalDateDayOfMonth  StaysInWeekendNights  \\\n",
       "119385                     35                     30                     2   \n",
       "119386                     35                     31                     2   \n",
       "119387                     35                     31                     2   \n",
       "119388                     35                     31                     2   \n",
       "119389                     35                     29                     2   \n",
       "\n",
       "        StaysInWeekNights  Adults  Children  Babies  Country  IsRepeatedGuest  \\\n",
       "119385                  5       2       0.0       0     15.0                0   \n",
       "119386                  5       3       0.0       0     56.0                0   \n",
       "119387                  5       2       0.0       0     43.0                0   \n",
       "119388                  5       2       0.0       0     59.0                0   \n",
       "119389                  7       2       0.0       0     43.0                0   \n",
       "\n",
       "        PreviousCancellations  PreviousBookingsNotCanceled  ReservedRoomType  \\\n",
       "119385                      0                            0                 0   \n",
       "119386                      0                            0                 4   \n",
       "119387                      0                            0                 3   \n",
       "119388                      0                            0                 0   \n",
       "119389                      0                            0                 0   \n",
       "\n",
       "        AssignedRoomType  BookingChanges  Agent  Company  DaysInWaitingList  \\\n",
       "119385                 0               0  217.0      0.0                  0   \n",
       "119386                 4               0  324.0      0.0                  0   \n",
       "119387                 3               0  324.0      0.0                  0   \n",
       "119388                 0               0  323.0      0.0                  0   \n",
       "119389                 0               0  324.0      0.0                  0   \n",
       "\n",
       "           ADR  RequiredCarParkingSpaces  TotalOfSpecialRequests  \\\n",
       "119385   96.14                         0                       0   \n",
       "119386  225.43                         0                       2   \n",
       "119387  157.71                         0                       4   \n",
       "119388  104.40                         0                       0   \n",
       "119389  151.20                         0                       2   \n",
       "\n",
       "        Hotel_City Hotel  Hotel_Resort Hotel  Meal_BB         Meal_FB         \\\n",
       "119385                 1                   0               1               0   \n",
       "119386                 1                   0               1               0   \n",
       "119387                 1                   0               1               0   \n",
       "119388                 1                   0               1               0   \n",
       "119389                 1                   0               0               0   \n",
       "\n",
       "        Meal_HB         Meal_SC         Meal_Undefined  \\\n",
       "119385               0               0               0   \n",
       "119386               0               0               0   \n",
       "119387               0               0               0   \n",
       "119388               0               0               0   \n",
       "119389               1               0               0   \n",
       "\n",
       "        MarketSegment_Aviation  MarketSegment_Complementary  \\\n",
       "119385                       0                            0   \n",
       "119386                       0                            0   \n",
       "119387                       0                            0   \n",
       "119388                       0                            0   \n",
       "119389                       0                            0   \n",
       "\n",
       "        MarketSegment_Corporate  MarketSegment_Direct  MarketSegment_Groups  \\\n",
       "119385                        0                     0                     0   \n",
       "119386                        0                     0                     0   \n",
       "119387                        0                     0                     0   \n",
       "119388                        0                     0                     0   \n",
       "119389                        0                     0                     0   \n",
       "\n",
       "        MarketSegment_Offline TA/TO  MarketSegment_Online TA  \\\n",
       "119385                            1                        0   \n",
       "119386                            0                        1   \n",
       "119387                            0                        1   \n",
       "119388                            0                        1   \n",
       "119389                            0                        1   \n",
       "\n",
       "        MarketSegment_Undefined  DistributionChannel_Corporate  \\\n",
       "119385                        0                              0   \n",
       "119386                        0                              0   \n",
       "119387                        0                              0   \n",
       "119388                        0                              0   \n",
       "119389                        0                              0   \n",
       "\n",
       "        DistributionChannel_Direct  DistributionChannel_GDS  \\\n",
       "119385                           0                        0   \n",
       "119386                           0                        0   \n",
       "119387                           0                        0   \n",
       "119388                           0                        0   \n",
       "119389                           0                        0   \n",
       "\n",
       "        DistributionChannel_TA/TO  DistributionChannel_Undefined  \\\n",
       "119385                          1                              0   \n",
       "119386                          1                              0   \n",
       "119387                          1                              0   \n",
       "119388                          1                              0   \n",
       "119389                          1                              0   \n",
       "\n",
       "        DepositType_No Deposit       DepositType_Non Refund       \\\n",
       "119385                            1                            0   \n",
       "119386                            1                            0   \n",
       "119387                            1                            0   \n",
       "119388                            1                            0   \n",
       "119389                            1                            0   \n",
       "\n",
       "        DepositType_Refundable       CustomerType_Contract  \\\n",
       "119385                            0                      0   \n",
       "119386                            0                      0   \n",
       "119387                            0                      0   \n",
       "119388                            0                      0   \n",
       "119389                            0                      0   \n",
       "\n",
       "        CustomerType_Group  CustomerType_Transient  \\\n",
       "119385                   0                       1   \n",
       "119386                   0                       1   \n",
       "119387                   0                       1   \n",
       "119388                   0                       1   \n",
       "119389                   0                       1   \n",
       "\n",
       "        CustomerType_Transient-Party  ReservationStatus  \n",
       "119385                             0                  1  \n",
       "119386                             0                  1  \n",
       "119387                             0                  1  \n",
       "119388                             0                  1  \n",
       "119389                             0                  1  "
      ]
     },
     "execution_count": 6,
     "metadata": {},
     "output_type": "execute_result"
    }
   ],
   "source": [
    "df.tail()"
   ]
  },
  {
   "cell_type": "code",
   "execution_count": 7,
   "metadata": {},
   "outputs": [
    {
     "data": {
      "text/plain": [
       "Index(['IsCanceled', 'LeadTime', 'ArrivalDateYear', 'ArrivalDateMonth',\n",
       "       'ArrivalDateWeekNumber', 'ArrivalDateDayOfMonth',\n",
       "       'StaysInWeekendNights', 'StaysInWeekNights', 'Adults', 'Children',\n",
       "       'Babies', 'Country', 'IsRepeatedGuest', 'PreviousCancellations',\n",
       "       'PreviousBookingsNotCanceled', 'ReservedRoomType', 'AssignedRoomType',\n",
       "       'BookingChanges', 'Agent', 'Company', 'DaysInWaitingList', 'ADR',\n",
       "       'RequiredCarParkingSpaces', 'TotalOfSpecialRequests',\n",
       "       'Hotel_City Hotel', 'Hotel_Resort Hotel', 'Meal_BB       ',\n",
       "       'Meal_FB       ', 'Meal_HB       ', 'Meal_SC       ', 'Meal_Undefined',\n",
       "       'MarketSegment_Aviation', 'MarketSegment_Complementary',\n",
       "       'MarketSegment_Corporate', 'MarketSegment_Direct',\n",
       "       'MarketSegment_Groups', 'MarketSegment_Offline TA/TO',\n",
       "       'MarketSegment_Online TA', 'MarketSegment_Undefined',\n",
       "       'DistributionChannel_Corporate', 'DistributionChannel_Direct',\n",
       "       'DistributionChannel_GDS', 'DistributionChannel_TA/TO',\n",
       "       'DistributionChannel_Undefined', 'DepositType_No Deposit     ',\n",
       "       'DepositType_Non Refund     ', 'DepositType_Refundable     ',\n",
       "       'CustomerType_Contract', 'CustomerType_Group', 'CustomerType_Transient',\n",
       "       'CustomerType_Transient-Party', 'ReservationStatus'],\n",
       "      dtype='object')"
      ]
     },
     "execution_count": 7,
     "metadata": {},
     "output_type": "execute_result"
    }
   ],
   "source": [
    "df.columns"
   ]
  },
  {
   "cell_type": "code",
   "execution_count": 8,
   "metadata": {},
   "outputs": [],
   "source": [
    "#without features:  ReservationStatus,  ArrivalDate, ReservationStatusDate\n",
    "x=df[['LeadTime', 'ArrivalDateYear', 'ArrivalDateMonth',\n",
    "       'ArrivalDateWeekNumber', 'ArrivalDateDayOfMonth',\n",
    "       'StaysInWeekendNights', 'StaysInWeekNights', 'Adults', 'Children',\n",
    "       'Babies', 'Country', 'IsRepeatedGuest', 'PreviousCancellations',\n",
    "       'PreviousBookingsNotCanceled', 'ReservedRoomType', 'AssignedRoomType',\n",
    "       'BookingChanges', 'Agent', 'Company', 'DaysInWaitingList', 'ADR',\n",
    "       'RequiredCarParkingSpaces', 'TotalOfSpecialRequests',\n",
    "       'Hotel_City Hotel', 'Hotel_Resort Hotel', 'Meal_BB       ',\n",
    "       'Meal_FB       ', 'Meal_HB       ', 'Meal_SC       ', 'Meal_Undefined',\n",
    "       'MarketSegment_Aviation', 'MarketSegment_Complementary',\n",
    "       'MarketSegment_Corporate', 'MarketSegment_Direct',\n",
    "       'MarketSegment_Groups', 'MarketSegment_Offline TA/TO',\n",
    "       'MarketSegment_Online TA', 'MarketSegment_Undefined',\n",
    "       'DistributionChannel_Corporate', 'DistributionChannel_Direct',\n",
    "       'DistributionChannel_GDS', 'DistributionChannel_TA/TO',\n",
    "       'DistributionChannel_Undefined', 'DepositType_No Deposit     ',\n",
    "       'DepositType_Non Refund     ', 'DepositType_Refundable     ',\n",
    "       'CustomerType_Contract', 'CustomerType_Group', 'CustomerType_Transient',\n",
    "       'CustomerType_Transient-Party']]\n",
    "y=df[['IsCanceled']]\n",
    "\n",
    "from sklearn.model_selection import train_test_split\n",
    "x_train,x_test,y_train,y_test = train_test_split(x,y,test_size=0.2,random_state=1111)"
   ]
  },
  {
   "cell_type": "markdown",
   "metadata": {},
   "source": [
    "# A. Model Training"
   ]
  },
  {
   "cell_type": "markdown",
   "metadata": {},
   "source": [
    "## 1. Logistic Regression"
   ]
  },
  {
   "cell_type": "markdown",
   "metadata": {},
   "source": [
    "Before Tuning"
   ]
  },
  {
   "cell_type": "code",
   "execution_count": 15,
   "metadata": {},
   "outputs": [
    {
     "name": "stdout",
     "output_type": "stream",
     "text": [
      "              precision    recall  f1-score   support\n",
      "\n",
      "           0       0.76      0.86      0.81     15130\n",
      "           1       0.69      0.53      0.60      8748\n",
      "\n",
      "    accuracy                           0.74     23878\n",
      "   macro avg       0.72      0.70      0.70     23878\n",
      "weighted avg       0.73      0.74      0.73     23878\n",
      "\n",
      "0.7404724013736493\n"
     ]
    }
   ],
   "source": [
    "from sklearn.linear_model import LogisticRegression\n",
    "log_model = LogisticRegression()\n",
    "log_model.fit(x_train,y_train)\n",
    "y_pred = log_model.predict(x_test)\n",
    "\n",
    "print(classification_report(np.array(y_test),np.array(y_pred)))\n",
    "print(accuracy_score(y_pred,y_test))"
   ]
  },
  {
   "cell_type": "markdown",
   "metadata": {},
   "source": [
    "Tuning"
   ]
  },
  {
   "cell_type": "code",
   "execution_count": 17,
   "metadata": {},
   "outputs": [
    {
     "name": "stdout",
     "output_type": "stream",
     "text": [
      "Fitting 10 folds for each of 16 candidates, totalling 160 fits\n"
     ]
    },
    {
     "name": "stderr",
     "output_type": "stream",
     "text": [
      "[Parallel(n_jobs=-1)]: Using backend LokyBackend with 12 concurrent workers.\n",
      "[Parallel(n_jobs=-1)]: Done  26 tasks      | elapsed:    5.9s\n",
      "[Parallel(n_jobs=-1)]: Done 160 out of 160 | elapsed:   31.8s finished\n"
     ]
    },
    {
     "name": "stdout",
     "output_type": "stream",
     "text": [
      "{'C': 0.01, 'penalty': 'l2'}\n",
      "0.7371954264043492\n"
     ]
    }
   ],
   "source": [
    "log_model = LogisticRegression()\n",
    "params = {'penalty': ['l1', 'l2'],'C':[0.001,.009,0.01,.09,1,5,10,25]}\n",
    "gridsearch = GridSearchCV(estimator = log_model, param_grid = params, cv = 10, scoring = 'accuracy',verbose = 1, n_jobs = -1)\n",
    "gridsearch.fit(x_train, y_train)\n",
    "\n",
    "print(gridsearch.best_params_)\n",
    "print(gridsearch.best_score_)"
   ]
  },
  {
   "cell_type": "markdown",
   "metadata": {},
   "source": [
    "After Tuning"
   ]
  },
  {
   "cell_type": "code",
   "execution_count": 16,
   "metadata": {},
   "outputs": [
    {
     "name": "stdout",
     "output_type": "stream",
     "text": [
      "              precision    recall  f1-score   support\n",
      "\n",
      "           0       0.76      0.86      0.81     15130\n",
      "           1       0.69      0.54      0.60      8748\n",
      "\n",
      "    accuracy                           0.74     23878\n",
      "   macro avg       0.72      0.70      0.71     23878\n",
      "weighted avg       0.73      0.74      0.73     23878\n",
      "\n",
      "0.7408911969176648\n"
     ]
    }
   ],
   "source": [
    "log_model_tuned = LogisticRegression(penalty='l2',C=0.01)\n",
    "log_model_tuned.fit(x_train,y_train)\n",
    "y_pred = log_model_tuned.predict(x_test)\n",
    "\n",
    "print(classification_report(np.array(y_test),np.array(y_pred)))\n",
    "print(accuracy_score(y_pred,y_test))"
   ]
  },
  {
   "cell_type": "markdown",
   "metadata": {},
   "source": [
    "## 2. Support Vector Machine"
   ]
  },
  {
   "cell_type": "markdown",
   "metadata": {},
   "source": [
    "Before Tuning"
   ]
  },
  {
   "cell_type": "code",
   "execution_count": 10,
   "metadata": {},
   "outputs": [
    {
     "name": "stdout",
     "output_type": "stream",
     "text": [
      "              precision    recall  f1-score   support\n",
      "\n",
      "           0       0.73      1.00      0.84     15130\n",
      "           1       0.98      0.36      0.52      8748\n",
      "\n",
      "    accuracy                           0.76     23878\n",
      "   macro avg       0.85      0.68      0.68     23878\n",
      "weighted avg       0.82      0.76      0.72     23878\n",
      "\n",
      "0.7612027808024122\n"
     ]
    }
   ],
   "source": [
    "from sklearn.svm import LinearSVC\n",
    "svc_model = LinearSVC()\n",
    "svc_model.fit(x_train,y_train)\n",
    "y_pred = svc_model.predict(x_test)\n",
    "\n",
    "print(classification_report(np.array(y_test),np.array(y_pred)))\n",
    "print(accuracy_score(y_pred,y_test))"
   ]
  },
  {
   "cell_type": "markdown",
   "metadata": {},
   "source": [
    "Tuning"
   ]
  },
  {
   "cell_type": "code",
   "execution_count": 26,
   "metadata": {},
   "outputs": [
    {
     "name": "stdout",
     "output_type": "stream",
     "text": [
      "Fitting 10 folds for each of 16 candidates, totalling 160 fits\n"
     ]
    },
    {
     "name": "stderr",
     "output_type": "stream",
     "text": [
      "[Parallel(n_jobs=-1)]: Using backend LokyBackend with 12 concurrent workers.\n",
      "[Parallel(n_jobs=-1)]: Done  26 tasks      | elapsed:   43.7s\n",
      "[Parallel(n_jobs=-1)]: Done 160 out of 160 | elapsed:  4.9min finished\n"
     ]
    },
    {
     "name": "stdout",
     "output_type": "stream",
     "text": [
      "{'C': 0.001, 'penalty': 'l2'}\n",
      "0.7576956070882455\n"
     ]
    }
   ],
   "source": [
    "svc_model = LinearSVC()\n",
    "params = {'penalty': ['l1', 'l2'],'C': [0.001,.009,0.01,.09,1,5,10,25]}\n",
    "gridsearch = GridSearchCV(estimator = svc_model, param_grid = params, cv = 10, scoring = 'accuracy',verbose = 1, n_jobs = -1)\n",
    "gridsearch.fit(x_train, y_train)\n",
    "\n",
    "print(gridsearch.best_params_)\n",
    "print(gridsearch.best_score_)"
   ]
  },
  {
   "cell_type": "markdown",
   "metadata": {},
   "source": [
    "After Tuning"
   ]
  },
  {
   "cell_type": "code",
   "execution_count": 27,
   "metadata": {},
   "outputs": [
    {
     "name": "stdout",
     "output_type": "stream",
     "text": [
      "              precision    recall  f1-score   support\n",
      "\n",
      "           0       0.78      0.94      0.85     15130\n",
      "           1       0.84      0.54      0.66      8748\n",
      "\n",
      "    accuracy                           0.79     23878\n",
      "   macro avg       0.81      0.74      0.75     23878\n",
      "weighted avg       0.80      0.79      0.78     23878\n",
      "\n",
      "0.7928637239299774\n"
     ]
    }
   ],
   "source": [
    "svc_model_tuned = LinearSVC(penalty='l2', C=0.001)\n",
    "svc_model_tuned.fit(x_train,y_train)\n",
    "y_pred = svc_model_tuned.predict(x_test)\n",
    "\n",
    "print(classification_report(np.array(y_test),np.array(y_pred)))\n",
    "print(accuracy_score(y_pred,y_test))"
   ]
  },
  {
   "cell_type": "markdown",
   "metadata": {},
   "source": [
    "## 3. K-Nearest Neighbors"
   ]
  },
  {
   "cell_type": "markdown",
   "metadata": {},
   "source": [
    "Before Tuning"
   ]
  },
  {
   "cell_type": "code",
   "execution_count": 28,
   "metadata": {},
   "outputs": [
    {
     "name": "stdout",
     "output_type": "stream",
     "text": [
      "              precision    recall  f1-score   support\n",
      "\n",
      "           0       0.85      0.84      0.85     15130\n",
      "           1       0.73      0.75      0.74      8748\n",
      "\n",
      "    accuracy                           0.81     23878\n",
      "   macro avg       0.79      0.80      0.79     23878\n",
      "weighted avg       0.81      0.81      0.81     23878\n",
      "\n",
      "0.8075215679705168\n"
     ]
    }
   ],
   "source": [
    "from sklearn.neighbors import KNeighborsClassifier\n",
    "knn = KNeighborsClassifier(n_neighbors=1)\n",
    "knn.fit(x_train,y_train)\n",
    "y_pred = knn.predict(x_test)\n",
    "\n",
    "print(classification_report(np.array(y_test),np.array(y_pred)))\n",
    "print(accuracy_score(y_pred,y_test))"
   ]
  },
  {
   "cell_type": "markdown",
   "metadata": {},
   "source": [
    "Tuning"
   ]
  },
  {
   "cell_type": "code",
   "execution_count": 29,
   "metadata": {},
   "outputs": [
    {
     "name": "stdout",
     "output_type": "stream",
     "text": [
      "Fitting 10 folds for each of 4 candidates, totalling 40 fits\n"
     ]
    },
    {
     "name": "stderr",
     "output_type": "stream",
     "text": [
      "[Parallel(n_jobs=-1)]: Using backend LokyBackend with 12 concurrent workers.\n",
      "[Parallel(n_jobs=-1)]: Done  40 out of  40 | elapsed:   27.8s finished\n"
     ]
    },
    {
     "name": "stdout",
     "output_type": "stream",
     "text": [
      "{'n_neighbors': 2}\n",
      "0.8151018031647785\n"
     ]
    }
   ],
   "source": [
    "knn = KNeighborsClassifier()\n",
    "params = dict(n_neighbors = range(1,5))\n",
    "gridsearch = GridSearchCV(estimator = knn, param_grid = params, cv = 10, scoring = 'accuracy',verbose = 1, n_jobs = -1)\n",
    "gridsearch.fit(x_train, y_train)\n",
    "\n",
    "print(gridsearch.best_params_)\n",
    "print(gridsearch.best_score_)"
   ]
  },
  {
   "cell_type": "markdown",
   "metadata": {},
   "source": [
    "After Tuning"
   ]
  },
  {
   "cell_type": "code",
   "execution_count": 30,
   "metadata": {},
   "outputs": [
    {
     "name": "stdout",
     "output_type": "stream",
     "text": [
      "              precision    recall  f1-score   support\n",
      "\n",
      "           0       0.81      0.93      0.86     15130\n",
      "           1       0.83      0.62      0.71      8748\n",
      "\n",
      "    accuracy                           0.82     23878\n",
      "   macro avg       0.82      0.77      0.79     23878\n",
      "weighted avg       0.82      0.82      0.81     23878\n",
      "\n",
      "0.8150180082083927\n"
     ]
    }
   ],
   "source": [
    "from sklearn.neighbors import KNeighborsClassifier\n",
    "knn_tuned = KNeighborsClassifier(n_neighbors=2)\n",
    "knn_tuned.fit(x_train,y_train)\n",
    "y_pred = knn_tuned.predict(x_test)\n",
    "\n",
    "print(classification_report(np.array(y_test),np.array(y_pred)))\n",
    "print(accuracy_score(y_pred,y_test))"
   ]
  },
  {
   "cell_type": "markdown",
   "metadata": {},
   "source": [
    "## 4. Decision Tree"
   ]
  },
  {
   "cell_type": "markdown",
   "metadata": {},
   "source": [
    "Before Tuning"
   ]
  },
  {
   "cell_type": "code",
   "execution_count": 14,
   "metadata": {
    "tags": []
   },
   "outputs": [
    {
     "name": "stdout",
     "output_type": "stream",
     "text": [
      "              precision    recall  f1-score   support\n",
      "\n",
      "           0       0.89      0.88      0.88     15130\n",
      "           1       0.80      0.81      0.80      8748\n",
      "\n",
      "    accuracy                           0.85     23878\n",
      "   macro avg       0.84      0.84      0.84     23878\n",
      "weighted avg       0.85      0.85      0.85     23878\n",
      "\n",
      "0.8538822346930228\n"
     ]
    }
   ],
   "source": [
    "from sklearn.tree import DecisionTreeClassifier\n",
    "tree = DecisionTreeClassifier()\n",
    "tree.fit(x_train,y_train)\n",
    "y_pred = tree.predict(x_test)\n",
    "\n",
    "print(classification_report(np.array(y_test),np.array(y_pred)))\n",
    "print(accuracy_score(y_pred,y_test))"
   ]
  },
  {
   "cell_type": "markdown",
   "metadata": {},
   "source": [
    "Tuning"
   ]
  },
  {
   "cell_type": "code",
   "execution_count": 15,
   "metadata": {
    "tags": []
   },
   "outputs": [
    {
     "name": "stdout",
     "output_type": "stream",
     "text": [
      "0.8614205781376081\n",
      "{'max_depth': 15}\n"
     ]
    }
   ],
   "source": [
    "#hypertune decision tree with RandomizedSearchCV\n",
    "tree = DecisionTreeClassifier()\n",
    "params = {'max_depth': [3,5,10,15,20,25,30]}\n",
    "grid=RandomizedSearchCV(tree, cv=10, param_distributions=param, scoring = 'accuracy', verbose = 1, n_jobs = -1)\n",
    "grid.fit(x_train,y_train)\n",
    "print(grid.best_score_)\n",
    "print(grid.best_params_)"
   ]
  },
  {
   "cell_type": "code",
   "execution_count": 16,
   "metadata": {
    "tags": []
   },
   "outputs": [
    {
     "name": "stdout",
     "output_type": "stream",
     "text": [
      "0.8614415216416427\n",
      "{'max_depth': 15}\n"
     ]
    }
   ],
   "source": [
    "#hypertune decision tree with GridSearchCV\n",
    "tree = DecisionTreeClassifier()\n",
    "params = {'max_depth': [3,5,10,15,20,25,30]}\n",
    "grid=GridSearchCV(tree, cv=10, param_grid=params, scoring = 'accuracy', verbose = 1, n_jobs = -1)\n",
    "grid.fit(x_train,y_train)\n",
    "print(grid.best_score_)\n",
    "print(grid.best_params_)"
   ]
  },
  {
   "cell_type": "markdown",
   "metadata": {},
   "source": [
    "After Tuning"
   ]
  },
  {
   "cell_type": "code",
   "execution_count": 26,
   "metadata": {
    "tags": []
   },
   "outputs": [
    {
     "name": "stdout",
     "output_type": "stream",
     "text": [
      "              precision    recall  f1-score   support\n",
      "\n",
      "           0       0.88      0.89      0.89     15130\n",
      "           1       0.81      0.80      0.80      8748\n",
      "\n",
      "    accuracy                           0.86     23878\n",
      "   macro avg       0.85      0.84      0.84     23878\n",
      "weighted avg       0.86      0.86      0.86     23878\n",
      "\n",
      "0.8561856101851076\n"
     ]
    }
   ],
   "source": [
    "tree_tuned = DecisionTreeClassifier(max_depth=15)\n",
    "tree_tuned.fit(x_train,y_train)\n",
    "y_pred = tree_tuned.predict(x_test)\n",
    "\n",
    "print(classification_report(np.array(y_test),np.array(y_pred)))\n",
    "print(accuracy_score(y_pred,y_test))"
   ]
  },
  {
   "cell_type": "markdown",
   "metadata": {},
   "source": [
    "## 5. Random Forest"
   ]
  },
  {
   "cell_type": "markdown",
   "metadata": {},
   "source": [
    "Before Tuning"
   ]
  },
  {
   "cell_type": "code",
   "execution_count": 27,
   "metadata": {
    "tags": []
   },
   "outputs": [
    {
     "name": "stdout",
     "output_type": "stream",
     "text": [
      "              precision    recall  f1-score   support\n",
      "\n",
      "           0       0.90      0.94      0.92     15130\n",
      "           1       0.88      0.81      0.85      8748\n",
      "\n",
      "    accuracy                           0.89     23878\n",
      "   macro avg       0.89      0.87      0.88     23878\n",
      "weighted avg       0.89      0.89      0.89     23878\n",
      "\n",
      "0.8914481949912053\n"
     ]
    }
   ],
   "source": [
    "from sklearn.ensemble import RandomForestClassifier\n",
    "forest = RandomForestClassifier(random_state=1111)\n",
    "forest.fit(x_train,y_train)\n",
    "y_pred = forest.predict(x_test)\n",
    "\n",
    "print(classification_report(np.array(y_test),np.array(y_pred)))\n",
    "print(accuracy_score(y_pred,y_test))"
   ]
  },
  {
   "cell_type": "markdown",
   "metadata": {},
   "source": [
    "Tuning"
   ]
  },
  {
   "cell_type": "code",
   "execution_count": 28,
   "metadata": {},
   "outputs": [
    {
     "name": "stdout",
     "output_type": "stream",
     "text": [
      "Fitting 10 folds for each of 42 candidates, totalling 420 fits\n"
     ]
    },
    {
     "name": "stderr",
     "output_type": "stream",
     "text": [
      "[Parallel(n_jobs=-1)]: Using backend LokyBackend with 4 concurrent workers.\n",
      "[Parallel(n_jobs=-1)]: Done  42 tasks      | elapsed: 12.4min\n",
      "[Parallel(n_jobs=-1)]: Done 192 tasks      | elapsed: 144.8min\n",
      "[Parallel(n_jobs=-1)]: Done 420 out of 420 | elapsed: 347.6min finished\n"
     ]
    },
    {
     "name": "stdout",
     "output_type": "stream",
     "text": [
      "0.8954687045933607\n",
      "{'max_depth': 30, 'n_estimators': 800}\n"
     ]
    }
   ],
   "source": [
    "#hypertune random forest with GridSearchCV\n",
    "forest = RandomForestClassifier(random_state=1111)\n",
    "n_estimators = [100, 300, 500, 800, 1000, 1200]\n",
    "max_depth = [5, 10, 15, 25, 30, 40, 50]\n",
    "\n",
    "params = dict(n_estimators = n_estimators, max_depth = max_depth)\n",
    "\n",
    "grid = GridSearchCV(forest, params, cv = 10, scoring = 'accuracy', verbose = 1, n_jobs = -1)\n",
    "grid.fit(x_train,y_train)\n",
    "print(grid.best_score_)\n",
    "print(grid.best_params_)"
   ]
  },
  {
   "cell_type": "markdown",
   "metadata": {},
   "source": [
    "After Tuning"
   ]
  },
  {
   "cell_type": "code",
   "execution_count": 30,
   "metadata": {
    "tags": []
   },
   "outputs": [
    {
     "name": "stdout",
     "output_type": "stream",
     "text": [
      "              precision    recall  f1-score   support\n",
      "\n",
      "           0       0.90      0.94      0.92     15130\n",
      "           1       0.88      0.81      0.85      8748\n",
      "\n",
      "    accuracy                           0.89     23878\n",
      "   macro avg       0.89      0.88      0.88     23878\n",
      "weighted avg       0.89      0.89      0.89     23878\n",
      "\n",
      "0.892202026970433\n"
     ]
    }
   ],
   "source": [
    "from sklearn.ensemble import RandomForestClassifier\n",
    "forest_tuned = RandomForestClassifier(random_state=1111, max_depth=30, n_estimators=800)\n",
    "forest_tuned.fit(x_train,y_train)\n",
    "y_pred = forest_tuned.predict(x_test)\n",
    "\n",
    "print(classification_report(np.array(y_test),np.array(y_pred)))\n",
    "print(accuracy_score(y_pred,y_test))"
   ]
  },
  {
   "cell_type": "markdown",
   "metadata": {},
   "source": [
    "## 6. AdaBoost Classifier"
   ]
  },
  {
   "cell_type": "markdown",
   "metadata": {},
   "source": [
    "Before Tuning"
   ]
  },
  {
   "cell_type": "code",
   "execution_count": 31,
   "metadata": {},
   "outputs": [
    {
     "name": "stdout",
     "output_type": "stream",
     "text": [
      "              precision    recall  f1-score   support\n",
      "\n",
      "           0       0.84      0.91      0.88     15130\n",
      "           1       0.82      0.70      0.76      8748\n",
      "\n",
      "    accuracy                           0.84     23878\n",
      "   macro avg       0.83      0.81      0.82     23878\n",
      "weighted avg       0.83      0.84      0.83     23878\n",
      "\n",
      "0.8359159058547617\n"
     ]
    }
   ],
   "source": [
    "from sklearn.ensemble import AdaBoostClassifier\n",
    "ada_model = AdaBoostClassifier(learning_rate = 1, n_estimators = 500)\n",
    "ada_model.fit(x_train, y_train)\n",
    "y_pred = ada_model.predict(x_test)\n",
    "\n",
    "print(classification_report(np.array(y_test),np.array(y_pred)))\n",
    "print(accuracy_score(y_pred,y_test))"
   ]
  },
  {
   "cell_type": "markdown",
   "metadata": {},
   "source": [
    "Tuning"
   ]
  },
  {
   "cell_type": "code",
   "execution_count": 32,
   "metadata": {},
   "outputs": [
    {
     "name": "stdout",
     "output_type": "stream",
     "text": [
      "Fitting 10 folds for each of 25 candidates, totalling 250 fits\n"
     ]
    },
    {
     "name": "stderr",
     "output_type": "stream",
     "text": [
      "[Parallel(n_jobs=-1)]: Using backend LokyBackend with 12 concurrent workers.\n",
      "[Parallel(n_jobs=-1)]: Done  26 tasks      | elapsed:   38.0s\n",
      "[Parallel(n_jobs=-1)]: Done 176 tasks      | elapsed: 16.6min\n",
      "[Parallel(n_jobs=-1)]: Done 250 out of 250 | elapsed: 27.0min finished\n"
     ]
    },
    {
     "name": "stdout",
     "output_type": "stream",
     "text": [
      "0.8417790591967972\n",
      "{'learning_rate': 1.0, 'n_estimators': 1000}\n"
     ]
    }
   ],
   "source": [
    "ada_model = AdaBoostClassifier()\n",
    "params = {'n_estimators': [10, 50, 100, 500, 1000],'learning_rate':[0.0001, 0.001, 0.01, 0.1, 1.0]}\n",
    "grid=GridSearchCV(ada_model, cv=10, param_grid=params, scoring = 'accuracy', verbose = 1, n_jobs = -1)\n",
    "grid.fit(x_train,y_train)\n",
    "print(grid.best_score_)\n",
    "print(grid.best_params_)"
   ]
  },
  {
   "cell_type": "markdown",
   "metadata": {},
   "source": [
    "After Tuning"
   ]
  },
  {
   "cell_type": "code",
   "execution_count": 33,
   "metadata": {},
   "outputs": [
    {
     "name": "stdout",
     "output_type": "stream",
     "text": [
      "              precision    recall  f1-score   support\n",
      "\n",
      "           0       0.84      0.91      0.88     15130\n",
      "           1       0.82      0.71      0.76      8748\n",
      "\n",
      "    accuracy                           0.84     23878\n",
      "   macro avg       0.83      0.81      0.82     23878\n",
      "weighted avg       0.84      0.84      0.83     23878\n",
      "\n",
      "0.8364184605075802\n"
     ]
    }
   ],
   "source": [
    "ada_model_tuned = AdaBoostClassifier(learning_rate = 1, n_estimators = 1000)\n",
    "ada_model_tuned.fit(x_train, y_train)\n",
    "y_pred = ada_model_tuned.predict(x_test)\n",
    "\n",
    "print(classification_report(np.array(y_test),np.array(y_pred)))\n",
    "print(accuracy_score(y_pred,y_test))"
   ]
  },
  {
   "cell_type": "markdown",
   "metadata": {},
   "source": [
    "## 7. XGB Classifier"
   ]
  },
  {
   "cell_type": "markdown",
   "metadata": {},
   "source": [
    "Before Tuning"
   ]
  },
  {
   "cell_type": "code",
   "execution_count": 34,
   "metadata": {},
   "outputs": [
    {
     "name": "stdout",
     "output_type": "stream",
     "text": [
      "              precision    recall  f1-score   support\n",
      "\n",
      "           0       0.90      0.92      0.91     15130\n",
      "           1       0.85      0.82      0.83      8748\n",
      "\n",
      "    accuracy                           0.88     23878\n",
      "   macro avg       0.87      0.87      0.87     23878\n",
      "weighted avg       0.88      0.88      0.88     23878\n",
      "\n",
      "0.8811458246084262\n"
     ]
    }
   ],
   "source": [
    "from xgboost import XGBClassifier\n",
    "xgb_model = XGBClassifier()\n",
    "xgb_model.fit(x_train, y_train)\n",
    "y_pred = xgb_model.predict(x_test)\n",
    "\n",
    "print(classification_report(np.array(y_test),np.array(y_pred)))\n",
    "print(accuracy_score(y_pred,y_test))"
   ]
  },
  {
   "cell_type": "markdown",
   "metadata": {},
   "source": [
    "Tuning"
   ]
  },
  {
   "cell_type": "code",
   "execution_count": 35,
   "metadata": {},
   "outputs": [
    {
     "name": "stdout",
     "output_type": "stream",
     "text": [
      "Fitting 10 folds for each of 35 candidates, totalling 350 fits\n"
     ]
    },
    {
     "name": "stderr",
     "output_type": "stream",
     "text": [
      "[Parallel(n_jobs=-1)]: Using backend LokyBackend with 12 concurrent workers.\n",
      "[Parallel(n_jobs=-1)]: Done  26 tasks      | elapsed:  2.7min\n",
      "[Parallel(n_jobs=-1)]: Done 176 tasks      | elapsed: 30.7min\n",
      "[Parallel(n_jobs=-1)]: Done 350 out of 350 | elapsed: 65.3min finished\n"
     ]
    },
    {
     "name": "stdout",
     "output_type": "stream",
     "text": [
      "0.8925266284042976\n",
      "{'learning_rate': 0.3, 'n_estimators': 1100}\n"
     ]
    }
   ],
   "source": [
    "xgb_model = XGBClassifier()\n",
    "params = {'n_estimators': [50,100,500,1000,1100],\n",
    "         'learning_rate': [0.001,0.01,0.01,0.05,0.1,0.3,1]}\n",
    "grid=GridSearchCV(xgb_model, cv=10, param_grid=params, scoring = 'accuracy', verbose = 1, n_jobs = -1)\n",
    "grid.fit(x_train,y_train)\n",
    "print(grid.best_score_)\n",
    "print(grid.best_params_)"
   ]
  },
  {
   "cell_type": "markdown",
   "metadata": {},
   "source": [
    "After Tuning"
   ]
  },
  {
   "cell_type": "code",
   "execution_count": 36,
   "metadata": {},
   "outputs": [
    {
     "name": "stdout",
     "output_type": "stream",
     "text": [
      "              precision    recall  f1-score   support\n",
      "\n",
      "           0       0.91      0.92      0.91     15130\n",
      "           1       0.86      0.83      0.85      8748\n",
      "\n",
      "    accuracy                           0.89     23878\n",
      "   macro avg       0.88      0.88      0.88     23878\n",
      "weighted avg       0.89      0.89      0.89     23878\n",
      "\n",
      "0.890191808359159\n"
     ]
    }
   ],
   "source": [
    "xgb_model_tuned = XGBClassifier(n_estimators =1100, learning_rate = 0.3)\n",
    "xgb_model_tuned.fit(x_train, y_train)\n",
    "y_pred = xgb_model_tuned.predict(x_test)\n",
    "\n",
    "print(classification_report(np.array(y_test),np.array(y_pred)))\n",
    "print(accuracy_score(y_pred,y_test))"
   ]
  },
  {
   "cell_type": "markdown",
   "metadata": {},
   "source": [
    "# B. Model Evaluation and Comparison"
   ]
  },
  {
   "cell_type": "markdown",
   "metadata": {},
   "source": [
    "Accuracy Comparison of Different Models"
   ]
  },
  {
   "cell_type": "code",
   "execution_count": 11,
   "metadata": {},
   "outputs": [],
   "source": [
    "modelaccuracy = {'Models':['Logistic Regression','SVM','KNN','Decision Tree','Random Forest','AdaBoost','XGBoost'],\n",
    "                 'Before Tuning':[74.04,76.12,80.75,85.39,89.14,83.59,88.11],\n",
    "                 'After Tuning': [74.09,79.29,81.50,85.62,89.22,83.64,89.02]}\n",
    "modelaccuracy_df = pd.DataFrame(modelaccuracy)"
   ]
  },
  {
   "cell_type": "code",
   "execution_count": 12,
   "metadata": {},
   "outputs": [
    {
     "data": {
      "text/html": [
       "<div>\n",
       "<style scoped>\n",
       "    .dataframe tbody tr th:only-of-type {\n",
       "        vertical-align: middle;\n",
       "    }\n",
       "\n",
       "    .dataframe tbody tr th {\n",
       "        vertical-align: top;\n",
       "    }\n",
       "\n",
       "    .dataframe thead th {\n",
       "        text-align: right;\n",
       "    }\n",
       "</style>\n",
       "<table border=\"1\" class=\"dataframe\">\n",
       "  <thead>\n",
       "    <tr style=\"text-align: right;\">\n",
       "      <th></th>\n",
       "      <th>Models</th>\n",
       "      <th>Before Tuning</th>\n",
       "      <th>After Tuning</th>\n",
       "    </tr>\n",
       "  </thead>\n",
       "  <tbody>\n",
       "    <tr>\n",
       "      <th>0</th>\n",
       "      <td>Logistic Regression</td>\n",
       "      <td>74.04</td>\n",
       "      <td>74.09</td>\n",
       "    </tr>\n",
       "    <tr>\n",
       "      <th>1</th>\n",
       "      <td>SVM</td>\n",
       "      <td>76.12</td>\n",
       "      <td>79.29</td>\n",
       "    </tr>\n",
       "    <tr>\n",
       "      <th>2</th>\n",
       "      <td>KNN</td>\n",
       "      <td>80.75</td>\n",
       "      <td>81.50</td>\n",
       "    </tr>\n",
       "    <tr>\n",
       "      <th>3</th>\n",
       "      <td>Decision Tree</td>\n",
       "      <td>85.39</td>\n",
       "      <td>85.62</td>\n",
       "    </tr>\n",
       "    <tr>\n",
       "      <th>4</th>\n",
       "      <td>Random Forest</td>\n",
       "      <td>89.14</td>\n",
       "      <td>89.22</td>\n",
       "    </tr>\n",
       "    <tr>\n",
       "      <th>5</th>\n",
       "      <td>AdaBoost</td>\n",
       "      <td>83.59</td>\n",
       "      <td>83.64</td>\n",
       "    </tr>\n",
       "    <tr>\n",
       "      <th>6</th>\n",
       "      <td>XGBoost</td>\n",
       "      <td>88.11</td>\n",
       "      <td>89.02</td>\n",
       "    </tr>\n",
       "  </tbody>\n",
       "</table>\n",
       "</div>"
      ],
      "text/plain": [
       "                Models  Before Tuning  After Tuning\n",
       "0  Logistic Regression          74.04         74.09\n",
       "1                  SVM          76.12         79.29\n",
       "2                  KNN          80.75         81.50\n",
       "3        Decision Tree          85.39         85.62\n",
       "4        Random Forest          89.14         89.22\n",
       "5             AdaBoost          83.59         83.64\n",
       "6              XGBoost          88.11         89.02"
      ]
     },
     "execution_count": 12,
     "metadata": {},
     "output_type": "execute_result"
    }
   ],
   "source": [
    "modelaccuracy_df"
   ]
  },
  {
   "cell_type": "code",
   "execution_count": 13,
   "metadata": {},
   "outputs": [
    {
     "data": {
      "text/plain": [
       "<matplotlib.axes._subplots.AxesSubplot at 0x12469f938b0>"
      ]
     },
     "execution_count": 13,
     "metadata": {},
     "output_type": "execute_result"
    },
    {
     "data": {
      "image/png": "[encoded data removed]",
      "text/plain": [
       "<Figure size 720x360 with 1 Axes>"
      ]
     },
     "metadata": {
      "needs_background": "light"
     },
     "output_type": "display_data"
    }
   ],
   "source": [
    "modelaccuracy_df.plot(x='Models', y=['Before Tuning', 'After Tuning'], kind=\"bar\", figsize=(10,5))"
   ]
  },
  {
   "cell_type": "markdown",
   "metadata": {},
   "source": [
    "ROC Analysis on Different Models"
   ]
  },
  {
   "cell_type": "code",
   "execution_count": 19,
   "metadata": {},
   "outputs": [],
   "source": [
    "from sklearn.metrics import roc_auc_score, roc_curve, auc"
   ]
  },
  {
   "cell_type": "code",
   "execution_count": null,
   "metadata": {},
   "outputs": [],
   "source": [
    "#https://analyticsindiamag.com/roc-auc-curve-for-comprehensive-analysis-of-machine-learning-models/"
   ]
  },
  {
   "cell_type": "code",
   "execution_count": 15,
   "metadata": {},
   "outputs": [],
   "source": [
    "from sklearn.linear_model import LogisticRegression\n",
    "from sklearn.svm import LinearSVC\n",
    "from sklearn.neighbors import KNeighborsClassifier\n",
    "from sklearn.tree import DecisionTreeClassifier\n",
    "from sklearn.ensemble import RandomForestClassifier\n",
    "from sklearn.ensemble import AdaBoostClassifier\n",
    "from xgboost import XGBClassifier\n"
   ]
  },
  {
   "cell_type": "code",
   "execution_count": 16,
   "metadata": {},
   "outputs": [],
   "source": [
    "# Defining all the models for comparison\n",
    "clf1 = LogisticRegression(penalty='l2',C=0.01)\n",
    "clf2 = LinearSVC(penalty='l2', C=0.001)\n",
    "clf3 = KNeighborsClassifier(n_neighbors=2)\n",
    "clf4 = DecisionTreeClassifier(max_depth=15)\n",
    "clf5 = RandomForestClassifier(random_state=1111, max_depth=30, n_estimators=800)\n",
    "clf6 = AdaBoostClassifier(learning_rate = 1, n_estimators = 1000)\n",
    "clf7 = XGBClassifier(n_estimators =1100, learning_rate = 0.3)\n"
   ]
  },
  {
   "cell_type": "code",
   "execution_count": 17,
   "metadata": {},
   "outputs": [],
   "source": [
    "# Predicting probabilities for testing data\n",
    "probas1_ = clf1.fit(x_train, y_train).predict_proba(x_test)\n",
    "probas2_ = clf2.fit(x_train, y_train)._predict_proba_lr(x_test)\n",
    "probas3_ = clf3.fit(x_train, y_train).predict_proba(x_test)\n",
    "probas4_ = clf4.fit(x_train, y_train).predict_proba(x_test)\n",
    "probas5_ = clf5.fit(x_train, y_train).predict_proba(x_test)\n",
    "probas6_ = clf6.fit(x_train, y_train).predict_proba(x_test)\n",
    "probas7_ = clf7.fit(x_train, y_train).predict_proba(x_test)"
   ]
  },
  {
   "cell_type": "code",
   "execution_count": 24,
   "metadata": {},
   "outputs": [
    {
     "name": "stdout",
     "output_type": "stream",
     "text": [
      "AUC for Logistic Regression:  0.7768861302940436\n",
      "AUC for SVC: 0.8607108005576424\n",
      "AUC for KNN: 0.8383403847043048\n",
      "AUC for Decision Tree: 0.921641887515938\n",
      "AUC for Random Forest: 0.9595795515228333\n",
      "AUC for AdaBoost: 0.9201905351003089\n",
      "AUC for XGBoost: 0.9586239861151532\n"
     ]
    }
   ],
   "source": [
    "# Computing the ROC curve and AUC score for all classifiers\n",
    "fp1, tp1, thresholds1 = roc_curve(y_test, probas1_[:, 1])\n",
    "roc_auc_model1 = auc(fp1, tp1)\n",
    "fp2, tp2, thresholds2 = roc_curve(y_test, probas2_[:, 1])\n",
    "roc_auc_model2 = auc(fp2, tp2)\n",
    "fp3, tp3, thresholds3 = roc_curve(y_test, probas3_[:, 1])\n",
    "roc_auc_model3 = auc(fp3, tp3)\n",
    "fp4, tp4, thresholds4 = roc_curve(y_test, probas4_[:, 1])\n",
    "roc_auc_model4 = auc(fp4, tp4)\n",
    "fp5, tp5, thresholds5 = roc_curve(y_test, probas5_[:, 1])\n",
    "roc_auc_model5 = auc(fp5, tp5)\n",
    "fp6, tp6, thresholds6 = roc_curve(y_test, probas6_[:, 1])\n",
    "roc_auc_model6 = auc(fp6, tp6)\n",
    "fp7, tp7, thresholds7 = roc_curve(y_test, probas7_[:, 1])\n",
    "roc_auc_model7 = auc(fp7, tp7)\n",
    "print(\"AUC for Logistic Regression: \",roc_auc_model1)\n",
    "print(\"AUC for SVC:\", roc_auc_model2)\n",
    "print(\"AUC for KNN:\", roc_auc_model3)\n",
    "print(\"AUC for Decision Tree:\" ,roc_auc_model4)\n",
    "print(\"AUC for Random Forest:\", roc_auc_model5)\n",
    "print(\"AUC for AdaBoost:\" ,roc_auc_model6)\n",
    "print(\"AUC for XGBoost:\", roc_auc_model7)"
   ]
  },
  {
   "cell_type": "code",
   "execution_count": 25,
   "metadata": {},
   "outputs": [
    {
     "data": {
      "image/png": "[encoded data removed]",
      "text/plain": [
       "<Figure size 432x288 with 1 Axes>"
      ]
     },
     "metadata": {
      "needs_background": "light"
     },
     "output_type": "display_data"
    }
   ],
   "source": [
    "# Plotting the roc curve to visualize the performance of all 7 models\n",
    "plt.clf()\n",
    "plt.plot(fp1, tp1, label='Logistic Regression (area = %0.2f)' % roc_auc_model1)\n",
    "plt.plot(fp2, tp2, label='SVC (area = %0.2f)' % roc_auc_model2)\n",
    "plt.plot(fp3, tp3, label='KNN (area = %0.2f)' % roc_auc_model3)\n",
    "plt.plot(fp4, tp4, label='Decision Tree (area = %0.2f)' % roc_auc_model4)\n",
    "plt.plot(fp5, tp5, label='Random Forest (area = %0.2f)' % roc_auc_model5)\n",
    "plt.plot(fp6, tp6, label='AdaBoost (area = %0.2f)' % roc_auc_model6)\n",
    "plt.plot(fp7, tp7, label='XGBoost (area = %0.2f)' % roc_auc_model7)\n",
    "plt.plot([0, 1], [0, 1], 'k--')\n",
    "plt.xlim([0.0, 1.0])\n",
    "plt.ylim([0.0, 1.0])\n",
    "plt.xlabel('False Positive Rate')\n",
    "plt.ylabel('True Positive Rate')\n",
    "plt.title('ROC Analysis on Different Models')\n",
    "plt.legend(loc=\"lower right\")\n",
    "plt.show()"
   ]
  },
  {
   "cell_type": "markdown",
   "metadata": {},
   "source": [
    "# C. Feature Importance"
   ]
  },
  {
   "cell_type": "markdown",
   "metadata": {},
   "source": [
    "## 1. Random Forest"
   ]
  },
  {
   "cell_type": "code",
   "execution_count": 41,
   "metadata": {},
   "outputs": [],
   "source": [
    "features = ['LeadTime', 'ArrivalDateYear', 'ArrivalDateMonth',\n",
    "       'ArrivalDateWeekNumber', 'ArrivalDateDayOfMonth',\n",
    "       'StaysInWeekendNights', 'StaysInWeekNights', 'Adults', 'Children','Babies', 'Country', 'IsRepeatedGuest', 'PreviousCancellations','PreviousBookingsNotCanceled', 'ReservedRoomType', 'AssignedRoomType','BookingChanges', 'Agent', 'Company', 'DaysInWaitingList', 'ADR','RequiredCarParkingSpaces', 'TotalOfSpecialRequests',\n",
    "       'Hotel_City Hotel', 'Hotel_Resort Hotel', 'Meal_BB',\n",
    "       'Meal_FB', 'Meal_HB', 'Meal_SC', 'Meal_Undefined',\n",
    "       'MarketSegment_Aviation', 'MarketSegment_Complementary',\n",
    "       'MarketSegment_Corporate', 'MarketSegment_Direct',\n",
    "       'MarketSegment_Groups', 'MarketSegment_Offline TA/TO',\n",
    "       'MarketSegment_Online TA', 'MarketSegment_Undefined',\n",
    "       'DistributionChannel_Corporate', 'DistributionChannel_Direct',\n",
    "       'DistributionChannel_GDS', 'DistributionChannel_TA/TO',\n",
    "       'DistributionChannel_Undefined', 'DepositType_No Deposit',\n",
    "       'DepositType_Non Refund', 'DepositType_Refundable',\n",
    "       'CustomerType_Contract', 'CustomerType_Group', 'CustomerType_Transient','CustomerType_Transient-Party']"
   ]
  },
  {
   "cell_type": "code",
   "execution_count": 27,
   "metadata": {},
   "outputs": [
    {
     "name": "stdout",
     "output_type": "stream",
     "text": [
      "              precision    recall  f1-score   support\n",
      "\n",
      "           0       0.90      0.94      0.92     15130\n",
      "           1       0.88      0.81      0.85      8748\n",
      "\n",
      "    accuracy                           0.89     23878\n",
      "   macro avg       0.89      0.88      0.88     23878\n",
      "weighted avg       0.89      0.89      0.89     23878\n",
      "\n",
      "0.892202026970433\n"
     ]
    }
   ],
   "source": [
    "from sklearn.ensemble import RandomForestClassifier\n",
    "forest_tuned = RandomForestClassifier(random_state=1111, max_depth=30, n_estimators=800)\n",
    "forest_tuned.fit(x_train,y_train)\n",
    "y_pred = forest_tuned.predict(x_test)\n",
    "\n",
    "print(classification_report(np.array(y_test),np.array(y_pred)))\n",
    "print(accuracy_score(y_pred,y_test))"
   ]
  },
  {
   "cell_type": "markdown",
   "metadata": {},
   "source": [
    "Scikit-learn Feature Importance"
   ]
  },
  {
   "cell_type": "code",
   "execution_count": 44,
   "metadata": {
    "tags": []
   },
   "outputs": [],
   "source": [
    "forest_importance = forest_tuned.feature_importances_"
   ]
  },
  {
   "cell_type": "code",
   "execution_count": 45,
   "metadata": {},
   "outputs": [],
   "source": [
    "# Saving the feature importance into a dictionary\n",
    "forest_dict = dict(zip(features,forest_importance))"
   ]
  },
  {
   "cell_type": "code",
   "execution_count": 46,
   "metadata": {},
   "outputs": [
    {
     "data": {
      "text/plain": [
       "{'LeadTime': 0.11307447580130135,\n",
       " 'ArrivalDateYear': 0.022416101459949978,\n",
       " 'ArrivalDateMonth': 0.02794143670147939,\n",
       " 'ArrivalDateWeekNumber': 0.04584599757581797,\n",
       " 'ArrivalDateDayOfMonth': 0.04748695448591063,\n",
       " 'StaysInWeekendNights': 0.020649512482720817,\n",
       " 'StaysInWeekNights': 0.032270254446823195,\n",
       " 'Adults': 0.012059694628596837,\n",
       " 'Children': 0.005732511215317692,\n",
       " 'Babies': 0.0008416901449658716,\n",
       " 'Country': 0.10368821645605612,\n",
       " 'IsRepeatedGuest': 0.0019446628124914975,\n",
       " 'PreviousCancellations': 0.032874156593020405,\n",
       " 'PreviousBookingsNotCanceled': 0.003992814647026613,\n",
       " 'ReservedRoomType': 0.01301651980316137,\n",
       " 'AssignedRoomType': 0.022595614158205605,\n",
       " 'BookingChanges': 0.019122963844721414,\n",
       " 'Agent': 0.04834780083054638,\n",
       " 'Company': 0.00423160192311111,\n",
       " 'DaysInWaitingList': 0.001933496074026148,\n",
       " 'ADR': 0.06456684487321732,\n",
       " 'RequiredCarParkingSpaces': 0.022479820719919975,\n",
       " 'TotalOfSpecialRequests': 0.0569548434669895,\n",
       " 'Hotel_City Hotel': 0.006074154281410254,\n",
       " 'Hotel_Resort Hotel': 0.0061142425719894755,\n",
       " 'Meal_BB': 0.005593083327130786,\n",
       " 'Meal_FB': 0.0008048090926203704,\n",
       " 'Meal_HB': 0.004237979606222584,\n",
       " 'Meal_SC': 0.0031877695458360856,\n",
       " 'Meal_Undefined': 0.0010011573956532143,\n",
       " 'MarketSegment_Aviation': 0.0002719783194250686,\n",
       " 'MarketSegment_Complementary': 0.0003704521494904673,\n",
       " 'MarketSegment_Corporate': 0.0015769438588906334,\n",
       " 'MarketSegment_Direct': 0.003862066737576908,\n",
       " 'MarketSegment_Groups': 0.010296691977380399,\n",
       " 'MarketSegment_Offline TA/TO': 0.010123780287172453,\n",
       " 'MarketSegment_Online TA': 0.020277071991333436,\n",
       " 'MarketSegment_Undefined': 2.036593611399205e-05,\n",
       " 'DistributionChannel_Corporate': 0.0014966176397047128,\n",
       " 'DistributionChannel_Direct': 0.004128000297317244,\n",
       " 'DistributionChannel_GDS': 0.0001691720255283402,\n",
       " 'DistributionChannel_TA/TO': 0.00723932136533838,\n",
       " 'DistributionChannel_Undefined': 3.343575203092948e-05,\n",
       " 'DepositType_No Deposit': 0.07317768947035436,\n",
       " 'DepositType_Non Refund': 0.08775103346036309,\n",
       " 'DepositType_Refundable': 0.0003125830201081225,\n",
       " 'CustomerType_Contract': 0.0016187367590951077,\n",
       " 'CustomerType_Group': 0.00026884880126384864,\n",
       " 'CustomerType_Transient': 0.01372480818147291,\n",
       " 'CustomerType_Transient-Party': 0.01219922100379975}"
      ]
     },
     "execution_count": 46,
     "metadata": {},
     "output_type": "execute_result"
    }
   ],
   "source": [
    "forest_dict"
   ]
  },
  {
   "cell_type": "code",
   "execution_count": 61,
   "metadata": {},
   "outputs": [],
   "source": [
    "sorted_keys = sorted(forest_dict, key=forest_dict.get, reverse=True) "
   ]
  },
  {
   "cell_type": "code",
   "execution_count": 62,
   "metadata": {},
   "outputs": [
    {
     "data": {
      "text/plain": [
       "['LeadTime',\n",
       " 'Country',\n",
       " 'DepositType_Non Refund',\n",
       " 'DepositType_No Deposit',\n",
       " 'ADR',\n",
       " 'TotalOfSpecialRequests',\n",
       " 'Agent',\n",
       " 'ArrivalDateDayOfMonth',\n",
       " 'ArrivalDateWeekNumber',\n",
       " 'PreviousCancellations',\n",
       " 'StaysInWeekNights',\n",
       " 'ArrivalDateMonth',\n",
       " 'AssignedRoomType',\n",
       " 'RequiredCarParkingSpaces',\n",
       " 'ArrivalDateYear',\n",
       " 'StaysInWeekendNights',\n",
       " 'MarketSegment_Online TA',\n",
       " 'BookingChanges',\n",
       " 'CustomerType_Transient',\n",
       " 'ReservedRoomType',\n",
       " 'CustomerType_Transient-Party',\n",
       " 'Adults',\n",
       " 'MarketSegment_Groups',\n",
       " 'MarketSegment_Offline TA/TO',\n",
       " 'DistributionChannel_TA/TO',\n",
       " 'Hotel_Resort Hotel',\n",
       " 'Hotel_City Hotel',\n",
       " 'Children',\n",
       " 'Meal_BB',\n",
       " 'Meal_HB',\n",
       " 'Company',\n",
       " 'DistributionChannel_Direct',\n",
       " 'PreviousBookingsNotCanceled',\n",
       " 'MarketSegment_Direct',\n",
       " 'Meal_SC',\n",
       " 'IsRepeatedGuest',\n",
       " 'DaysInWaitingList',\n",
       " 'CustomerType_Contract',\n",
       " 'MarketSegment_Corporate',\n",
       " 'DistributionChannel_Corporate',\n",
       " 'Meal_Undefined',\n",
       " 'Babies',\n",
       " 'Meal_FB',\n",
       " 'MarketSegment_Complementary',\n",
       " 'DepositType_Refundable',\n",
       " 'MarketSegment_Aviation',\n",
       " 'CustomerType_Group',\n",
       " 'DistributionChannel_GDS',\n",
       " 'DistributionChannel_Undefined',\n",
       " 'MarketSegment_Undefined']"
      ]
     },
     "execution_count": 62,
     "metadata": {},
     "output_type": "execute_result"
    }
   ],
   "source": [
    "sorted_keys"
   ]
  },
  {
   "cell_type": "markdown",
   "metadata": {},
   "source": [
    "Permutation Importance"
   ]
  },
  {
   "cell_type": "code",
   "execution_count": 32,
   "metadata": {},
   "outputs": [],
   "source": [
    "from sklearn.inspection import permutation_importance\n",
    "forest_importance_p = permutation_importance(forest_tuned, x_test, y_test, n_repeats=30, random_state=1111)\n"
   ]
  },
  {
   "cell_type": "code",
   "execution_count": 34,
   "metadata": {},
   "outputs": [
    {
     "name": "stdout",
     "output_type": "stream",
     "text": [
      "Country 0.069 +/- 0.001\n",
      "TotalOfSpecialRequests0.059 +/- 0.002\n",
      "Agent   0.049 +/- 0.001\n",
      "LeadTime0.042 +/- 0.001\n",
      "MarketSegment_Online TA0.031 +/- 0.001\n",
      "PreviousCancellations0.023 +/- 0.001\n",
      "ArrivalDateYear0.021 +/- 0.001\n",
      "AssignedRoomType0.017 +/- 0.001\n",
      "CustomerType_Transient0.014 +/- 0.001\n",
      "RequiredCarParkingSpaces0.012 +/- 0.001\n",
      "ADR     0.010 +/- 0.001\n",
      "BookingChanges0.010 +/- 0.001\n",
      "DepositType_Non Refund0.009 +/- 0.001\n",
      "CustomerType_Transient-Party0.007 +/- 0.001\n",
      "ReservedRoomType0.007 +/- 0.001\n",
      "ArrivalDateWeekNumber0.005 +/- 0.001\n",
      "StaysInWeekNights0.005 +/- 0.001\n",
      "MarketSegment_Offline TA/TO0.004 +/- 0.001\n",
      "ArrivalDateDayOfMonth0.004 +/- 0.001\n",
      "ArrivalDateMonth0.003 +/- 0.000\n",
      "Hotel_City Hotel0.003 +/- 0.001\n",
      "StaysInWeekendNights0.003 +/- 0.001\n",
      "Hotel_Resort Hotel0.003 +/- 0.001\n",
      "DepositType_No Deposit0.002 +/- 0.001\n",
      "Adults  0.001 +/- 0.000\n",
      "DistributionChannel_TA/TO0.001 +/- 0.001\n",
      "PreviousBookingsNotCanceled0.001 +/- 0.000\n",
      "Children0.001 +/- 0.000\n",
      "Company 0.000 +/- 0.000\n",
      "Meal_Undefined0.000 +/- 0.000\n",
      "DistributionChannel_Corporate0.000 +/- 0.000\n",
      "MarketSegment_Complementary0.000 +/- 0.000\n",
      "DistributionChannel_GDS0.000 +/- 0.000\n",
      "DistributionChannel_Undefined0.000 +/- 0.000\n"
     ]
    }
   ],
   "source": [
    "for i in forest_importance_p.importances_mean.argsort()[::-1]:\n",
    "    if forest_importance_p.importances_mean[i] - 2 * forest_importance_p.importances_std[i] > 0:\n",
    "        print(f\"{features[i]:<8}\"\n",
    "              f\"{forest_importance_p.importances_mean[i]:.3f}\"\n",
    "              f\" +/- {forest_importance_p.importances_std[i]:.3f}\")"
   ]
  },
  {
   "cell_type": "markdown",
   "metadata": {},
   "source": [
    "## 2. XGB Classifier"
   ]
  },
  {
   "cell_type": "code",
   "execution_count": 36,
   "metadata": {},
   "outputs": [
    {
     "name": "stdout",
     "output_type": "stream",
     "text": [
      "              precision    recall  f1-score   support\n",
      "\n",
      "           0       0.91      0.92      0.91     15130\n",
      "           1       0.86      0.83      0.85      8748\n",
      "\n",
      "    accuracy                           0.89     23878\n",
      "   macro avg       0.88      0.88      0.88     23878\n",
      "weighted avg       0.89      0.89      0.89     23878\n",
      "\n",
      "0.890191808359159\n"
     ]
    }
   ],
   "source": [
    "from xgboost import XGBClassifier\n",
    "xgb_model_tuned = XGBClassifier(n_estimators =1100, learning_rate = 0.3)\n",
    "xgb_model_tuned.fit(x_train, y_train)\n",
    "y_pred = xgb_model_tuned.predict(x_test)\n",
    "\n",
    "print(classification_report(np.array(y_test),np.array(y_pred)))\n",
    "print(accuracy_score(y_pred,y_test))"
   ]
  },
  {
   "cell_type": "markdown",
   "metadata": {},
   "source": [
    "Scikit-learn Feature Importance"
   ]
  },
  {
   "cell_type": "code",
   "execution_count": 52,
   "metadata": {
    "tags": []
   },
   "outputs": [],
   "source": [
    "import matplotlib.pyplot as plt\n",
    "xgb_importance = xgb_model_tuned.feature_importances_\n",
    "\n",
    "#for i,v in list(zip(x.columns,xgb_importance)):\n",
    "    #print(f'Feature: {i}, Score: {v}')\n",
    "\n",
    "#plt.bar([x for x in range(len(xgb_importance))], xgb_importance)\n",
    "#plt.show()"
   ]
  },
  {
   "cell_type": "code",
   "execution_count": 50,
   "metadata": {},
   "outputs": [],
   "source": [
    "# Saving the feature importance into a dictionary\n",
    "xgb_dict = dict(zip(features,xgb_importance))"
   ]
  },
  {
   "cell_type": "code",
   "execution_count": 51,
   "metadata": {},
   "outputs": [
    {
     "data": {
      "text/plain": [
       "{'LeadTime': 0.0011714684,\n",
       " 'ArrivalDateYear': 0.0023376837,\n",
       " 'ArrivalDateMonth': 0.00077017804,\n",
       " 'ArrivalDateWeekNumber': 0.00073561224,\n",
       " 'ArrivalDateDayOfMonth': 0.00057377876,\n",
       " 'StaysInWeekendNights': 0.00066740176,\n",
       " 'StaysInWeekNights': 0.0007198971,\n",
       " 'Adults': 0.0007991723,\n",
       " 'Children': 0.00080913655,\n",
       " 'Babies': 0.000532112,\n",
       " 'Country': 0.002243015,\n",
       " 'IsRepeatedGuest': 0.001110667,\n",
       " 'PreviousCancellations': 0.015318448,\n",
       " 'PreviousBookingsNotCanceled': 0.0026626224,\n",
       " 'ReservedRoomType': 0.001764403,\n",
       " 'AssignedRoomType': 0.00089602714,\n",
       " 'BookingChanges': 0.0016559949,\n",
       " 'Agent': 0.0029014132,\n",
       " 'Company': 0.00055508333,\n",
       " 'DaysInWaitingList': 0.0009828932,\n",
       " 'ADR': 0.0006305988,\n",
       " 'RequiredCarParkingSpaces': 0.06550038,\n",
       " 'TotalOfSpecialRequests': 0.0028388433,\n",
       " 'Hotel_City Hotel': 0.0011484507,\n",
       " 'Hotel_Resort Hotel': 0.0,\n",
       " 'Meal_BB': 0.00082164194,\n",
       " 'Meal_FB': 0.0010946702,\n",
       " 'Meal_HB': 0.0007921918,\n",
       " 'Meal_SC': 0.0006300759,\n",
       " 'Meal_Undefined': 0.0018556449,\n",
       " 'MarketSegment_Aviation': 0.0008995699,\n",
       " 'MarketSegment_Complementary': 0.00070171757,\n",
       " 'MarketSegment_Corporate': 0.0005919598,\n",
       " 'MarketSegment_Direct': 0.0024228045,\n",
       " 'MarketSegment_Groups': 0.0020751057,\n",
       " 'MarketSegment_Offline TA/TO': 0.002652984,\n",
       " 'MarketSegment_Online TA': 0.013429074,\n",
       " 'MarketSegment_Undefined': 0.0,\n",
       " 'DistributionChannel_Corporate': 0.0013452021,\n",
       " 'DistributionChannel_Direct': 0.0015614801,\n",
       " 'DistributionChannel_GDS': 0.0006348169,\n",
       " 'DistributionChannel_TA/TO': 0.0008217809,\n",
       " 'DistributionChannel_Undefined': 0.0,\n",
       " 'DepositType_No Deposit': 0.0011718863,\n",
       " 'DepositType_Non Refund': 0.84750456,\n",
       " 'DepositType_Refundable': 0.0002728328,\n",
       " 'CustomerType_Contract': 0.00075542263,\n",
       " 'CustomerType_Group': 0.00021652316,\n",
       " 'CustomerType_Transient': 0.0056084273,\n",
       " 'CustomerType_Transient-Party': 0.0028142796}"
      ]
     },
     "execution_count": 51,
     "metadata": {},
     "output_type": "execute_result"
    }
   ],
   "source": [
    "xgb_dict"
   ]
  },
  {
   "cell_type": "code",
   "execution_count": 63,
   "metadata": {},
   "outputs": [
    {
     "data": {
      "text/plain": [
       "['DepositType_Non Refund',\n",
       " 'RequiredCarParkingSpaces',\n",
       " 'PreviousCancellations',\n",
       " 'MarketSegment_Online TA',\n",
       " 'CustomerType_Transient',\n",
       " 'Agent',\n",
       " 'TotalOfSpecialRequests',\n",
       " 'CustomerType_Transient-Party',\n",
       " 'PreviousBookingsNotCanceled',\n",
       " 'MarketSegment_Offline TA/TO',\n",
       " 'MarketSegment_Direct',\n",
       " 'ArrivalDateYear',\n",
       " 'Country',\n",
       " 'MarketSegment_Groups',\n",
       " 'Meal_Undefined',\n",
       " 'ReservedRoomType',\n",
       " 'BookingChanges',\n",
       " 'DistributionChannel_Direct',\n",
       " 'DistributionChannel_Corporate',\n",
       " 'DepositType_No Deposit',\n",
       " 'LeadTime',\n",
       " 'Hotel_City Hotel',\n",
       " 'IsRepeatedGuest',\n",
       " 'Meal_FB',\n",
       " 'DaysInWaitingList',\n",
       " 'MarketSegment_Aviation',\n",
       " 'AssignedRoomType',\n",
       " 'DistributionChannel_TA/TO',\n",
       " 'Meal_BB',\n",
       " 'Children',\n",
       " 'Adults',\n",
       " 'Meal_HB',\n",
       " 'ArrivalDateMonth',\n",
       " 'CustomerType_Contract',\n",
       " 'ArrivalDateWeekNumber',\n",
       " 'StaysInWeekNights',\n",
       " 'MarketSegment_Complementary',\n",
       " 'StaysInWeekendNights',\n",
       " 'DistributionChannel_GDS',\n",
       " 'ADR',\n",
       " 'Meal_SC',\n",
       " 'MarketSegment_Corporate',\n",
       " 'ArrivalDateDayOfMonth',\n",
       " 'Company',\n",
       " 'Babies',\n",
       " 'DepositType_Refundable',\n",
       " 'CustomerType_Group',\n",
       " 'Hotel_Resort Hotel',\n",
       " 'MarketSegment_Undefined',\n",
       " 'DistributionChannel_Undefined']"
      ]
     },
     "execution_count": 63,
     "metadata": {},
     "output_type": "execute_result"
    }
   ],
   "source": [
    "sorted_keys = sorted(xgb_dict, key=xgb_dict.get, reverse=True) \n",
    "sorted_keys"
   ]
  },
  {
   "cell_type": "markdown",
   "metadata": {},
   "source": [
    "Permutation Importance"
   ]
  },
  {
   "cell_type": "code",
   "execution_count": 64,
   "metadata": {},
   "outputs": [],
   "source": [
    "from sklearn.inspection import permutation_importance\n",
    "xgb_importance_p = permutation_importance(xgb_model_tuned, x_test, y_test, n_repeats=30, random_state=1111)"
   ]
  },
  {
   "cell_type": "code",
   "execution_count": 65,
   "metadata": {},
   "outputs": [
    {
     "name": "stdout",
     "output_type": "stream",
     "text": [
      "Country 0.083 +/- 0.002\n",
      "LeadTime0.054 +/- 0.002\n",
      "Agent   0.050 +/- 0.001\n",
      "TotalOfSpecialRequests0.044 +/- 0.002\n",
      "AssignedRoomType0.040 +/- 0.001\n",
      "ReservedRoomType0.040 +/- 0.001\n",
      "DepositType_Non Refund0.030 +/- 0.001\n",
      "PreviousCancellations0.029 +/- 0.001\n",
      "ArrivalDateYear0.023 +/- 0.001\n",
      "ADR     0.018 +/- 0.001\n",
      "RequiredCarParkingSpaces0.015 +/- 0.001\n",
      "DepositType_No Deposit0.015 +/- 0.001\n",
      "MarketSegment_Online TA0.013 +/- 0.001\n",
      "ArrivalDateWeekNumber0.011 +/- 0.001\n",
      "CustomerType_Transient0.009 +/- 0.001\n",
      "BookingChanges0.006 +/- 0.001\n",
      "CustomerType_Transient-Party0.006 +/- 0.001\n",
      "ArrivalDateDayOfMonth0.005 +/- 0.001\n",
      "PreviousBookingsNotCanceled0.005 +/- 0.000\n",
      "StaysInWeekNights0.005 +/- 0.001\n",
      "MarketSegment_Offline TA/TO0.004 +/- 0.001\n",
      "MarketSegment_Groups0.003 +/- 0.001\n",
      "ArrivalDateMonth0.003 +/- 0.001\n",
      "StaysInWeekendNights0.003 +/- 0.001\n",
      "IsRepeatedGuest0.002 +/- 0.000\n",
      "Adults  0.001 +/- 0.000\n",
      "Company 0.001 +/- 0.000\n",
      "DaysInWaitingList0.001 +/- 0.000\n",
      "Meal_Undefined0.001 +/- 0.000\n",
      "CustomerType_Contract0.001 +/- 0.000\n",
      "Children0.001 +/- 0.000\n"
     ]
    }
   ],
   "source": [
    "for i in xgb_importance_p.importances_mean.argsort()[::-1]:\n",
    "    if xgb_importance_p.importances_mean[i] - 2 * xgb_importance_p.importances_std[i] > 0:\n",
    "        print(f\"{features[i]:<8}\"\n",
    "              f\"{xgb_importance_p.importances_mean[i]:.3f}\"\n",
    "              f\" +/- {xgb_importance_p.importances_std[i]:.3f}\")"
   ]
  },
  {
   "cell_type": "markdown",
   "metadata": {},
   "source": [
    "## 3. Visualization of the Important Features"
   ]
  },
  {
   "cell_type": "markdown",
   "metadata": {},
   "source": [
    "Random Forest Model's Most Important Features from Scikit-learn Feature Importance"
   ]
  },
  {
   "cell_type": "code",
   "execution_count": 47,
   "metadata": {},
   "outputs": [],
   "source": [
    "import seaborn as sns\n",
    "forest_df = pd.DataFrame(forest_dict.items(),columns=['y','x'])\n"
   ]
  },
  {
   "cell_type": "code",
   "execution_count": 48,
   "metadata": {},
   "outputs": [],
   "source": [
    "forest_df.sort_values(by='x',ascending=False, inplace=True)"
   ]
  },
  {
   "cell_type": "code",
   "execution_count": 49,
   "metadata": {},
   "outputs": [
    {
     "data": {
      "text/plain": [
       "Text(0.5, 0, 'Importance')"
      ]
     },
     "execution_count": 49,
     "metadata": {},
     "output_type": "execute_result"
    },
    {
     "data": {
      "image/png": "[encoded data removed]",
      "text/plain": [
       "<Figure size 576x1080 with 1 Axes>"
      ]
     },
     "metadata": {
      "needs_background": "light"
     },
     "output_type": "display_data"
    }
   ],
   "source": [
    "plt.figure(figsize=(8,15))\n",
    "f=sns.barplot(data=forest_df,y='y',x='x')\n",
    "f.set_title('Random Forest Feature Importance')\n",
    "f.set_xlabel('Importance')"
   ]
  },
  {
   "cell_type": "markdown",
   "metadata": {},
   "source": [
    "XGB Classifer's Most Important Features from Scikit-learn Feature Importance"
   ]
  },
  {
   "cell_type": "code",
   "execution_count": 54,
   "metadata": {},
   "outputs": [],
   "source": [
    "import seaborn as sns\n",
    "xgb_df = pd.DataFrame(xgb_dict.items(),columns=['y','x'])\n",
    "xgb_df.sort_values(by='x',ascending=False, inplace=True)"
   ]
  },
  {
   "cell_type": "code",
   "execution_count": 55,
   "metadata": {},
   "outputs": [
    {
     "data": {
      "text/plain": [
       "(0.0, 0.1)"
      ]
     },
     "execution_count": 55,
     "metadata": {},
     "output_type": "execute_result"
    },
    {
     "data": {
      "image/png": "[encoded data removed]",
      "text/plain": [
       "<Figure size 576x1080 with 1 Axes>"
      ]
     },
     "metadata": {
      "needs_background": "light"
     },
     "output_type": "display_data"
    }
   ],
   "source": [
    "plt.figure(figsize=(8,15))\n",
    "f=sns.barplot(data=xgb_df,y='y',x='x')\n",
    "f.set_title('XGB Classifer Feature Importance')\n",
    "f.set_xlabel('Importance')\n",
    "f.set_xlim(0,0.1)"
   ]
  },
  {
   "cell_type": "code",
   "execution_count": 53,
   "metadata": {},
   "outputs": [
    {
     "data": {
      "text/plain": [
       "<Figure size 2000x1600 with 0 Axes>"
      ]
     },
     "metadata": {},
     "output_type": "display_data"
    },
    {
     "data": {
      "image/png": "[encoded data removed]",
      "text/plain": [
       "<Figure size 432x288 with 2 Axes>"
      ]
     },
     "metadata": {
      "needs_background": "light"
     },
     "output_type": "display_data"
    }
   ],
   "source": [
    "# Putting the feature importance of Random Forest and XGB Classifier for comparison, but the comparison does not look clear\n",
    "# and this plot is not to be used in the powerpoint\n",
    "import numpy as np\n",
    "import matplotlib.pyplot as plt\n",
    "\n",
    "# Data\n",
    "features = ['LeadTime', 'ArrivalDateYear', 'ArrivalDateMonth',\n",
    "       'ArrivalDateWeekNumber', 'ArrivalDateDayOfMonth',\n",
    "       'StaysInWeekendNights', 'StaysInWeekNights', 'Adults', 'Children','Babies', 'Country', 'IsRepeatedGuest', 'PreviousCancellations','PreviousBookingsNotCanceled', 'ReservedRoomType', 'AssignedRoomType','BookingChanges', 'Agent', 'Company', 'DaysInWaitingList', 'ADR','RequiredCarParkingSpaces', 'TotalOfSpecialRequests',\n",
    "       'Hotel_City Hotel', 'Hotel_Resort Hotel', 'Meal_BB',\n",
    "       'Meal_FB', 'Meal_HB', 'Meal_SC', 'Meal_Undefined',\n",
    "       'MarketSegment_Aviation', 'MarketSegment_Complementary',\n",
    "       'MarketSegment_Corporate', 'MarketSegment_Direct',\n",
    "       'MarketSegment_Groups', 'MarketSegment_Offline TA/TO',\n",
    "       'MarketSegment_Online TA', 'MarketSegment_Undefined',\n",
    "       'DistributionChannel_Corporate', 'DistributionChannel_Direct',\n",
    "       'DistributionChannel_GDS', 'DistributionChannel_TA/TO',\n",
    "       'DistributionChannel_Undefined', 'DepositType_No Deposit',\n",
    "       'DepositType_Non Refund', 'DepositType_Refundable',\n",
    "       'CustomerType_Contract', 'CustomerType_Group', 'CustomerType_Transient','CustomerType_Transient-Party']\n",
    "\n",
    "\n",
    "y = np.arange(forest_importance.size)\n",
    "\n",
    "plt.figure(figsize=(10,8),dpi=200)\n",
    "\n",
    "fig, axes = plt.subplots(ncols=2, sharey=True)\n",
    "axes[0].barh(y, forest_importance, align='center', color='green', zorder=10)\n",
    "axes[0].set(title='Random Forest')\n",
    "axes[0].set_xlim(0,0.12)\n",
    "axes[1].barh(y, xgb_importance, align='center', color='blue', zorder=10)\n",
    "axes[1].set(title='XGB Classifier')\n",
    "axes[1].set_xlim(0,0.12)\n",
    "\n",
    "axes[0].invert_xaxis()\n",
    "axes[0].set(yticks=y)\n",
    "#axes[0].set_yticklabels(features,fontsize=20)\n",
    "axes[0].set(yticks=y, yticklabels=[])\n",
    "for yloc, state in zip(y, features):\n",
    "    axes[0].annotate(state, (0.5, yloc), xycoords=('figure fraction', 'data'),ha='center', va='center',fontsize=5)\n",
    "axes[0].yaxis.tick_right()\n",
    "#axes[0].tick_params(axis='y', which='major', labelsize=2)\n",
    "\n",
    "for ax in axes.flat:\n",
    "    ax.margins(0.03)\n",
    "    ax.grid(True)\n",
    "\n",
    "\n",
    "fig.tight_layout()\n",
    "fig.subplots_adjust(wspace=0.6)\n",
    "plt.show()"
   ]
  },
  {
   "cell_type": "markdown",
   "metadata": {},
   "source": [
    "## 4. Retrain Random Forest Model with the 10 Most Important Features"
   ]
  },
  {
   "cell_type": "markdown",
   "metadata": {},
   "source": [
    "Using The 10 Most Important Features from Scikit-learn's Feature Importance"
   ]
  },
  {
   "cell_type": "code",
   "execution_count": 66,
   "metadata": {},
   "outputs": [],
   "source": [
    "#retrain with most important features\n",
    "x_forest=df[['LeadTime', 'Country', 'DepositType_Non Refund     ','DepositType_No Deposit     ',\n",
    "             'ADR', 'TotalOfSpecialRequests', 'Agent', 'ArrivalDateDayOfMonth', 'ArrivalDateWeekNumber',\n",
    "            'PreviousCancellations']]\n",
    "y_forest=df[['IsCanceled']]\n",
    "\n",
    "from sklearn.model_selection import train_test_split\n",
    "x_train_forest,x_test_forest,y_train_forest,y_test_forest = train_test_split(x_forest,y_forest,test_size=0.2,random_state=1111)"
   ]
  },
  {
   "cell_type": "code",
   "execution_count": 68,
   "metadata": {
    "tags": []
   },
   "outputs": [
    {
     "name": "stdout",
     "output_type": "stream",
     "text": [
      "              precision    recall  f1-score   support\n",
      "\n",
      "           0       0.88      0.93      0.90     15130\n",
      "           1       0.86      0.78      0.82      8748\n",
      "\n",
      "    accuracy                           0.87     23878\n",
      "   macro avg       0.87      0.85      0.86     23878\n",
      "weighted avg       0.87      0.87      0.87     23878\n",
      "\n",
      "0.8730211910545271\n"
     ]
    }
   ],
   "source": [
    "from sklearn.ensemble import RandomForestClassifier\n",
    "forest_10_features_sk = RandomForestClassifier(random_state=1111)\n",
    "forest_10_features_sk.fit(x_train_forest,y_train_forest)\n",
    "y_pred_forest = forest_10_features_sk.predict(x_test_forest)\n",
    "\n",
    "print(classification_report(np.array(y_test_forest),np.array(y_pred_forest)))\n",
    "print(accuracy_score(y_pred_forest,y_test_forest))"
   ]
  },
  {
   "cell_type": "markdown",
   "metadata": {},
   "source": [
    "Using The 10 Most Important Features from Permutation Importance"
   ]
  },
  {
   "cell_type": "code",
   "execution_count": 69,
   "metadata": {},
   "outputs": [],
   "source": [
    "x_forest_pi=df[['Country', 'TotalOfSpecialRequests', 'Agent', 'LeadTime', 'MarketSegment_Online TA',\n",
    "               'PreviousCancellations', 'ArrivalDateYear', 'AssignedRoomType', 'CustomerType_Transient',\n",
    "               'RequiredCarParkingSpaces']]\n",
    "y_forest_pi=df[['IsCanceled']]\n",
    "\n",
    "from sklearn.model_selection import train_test_split\n",
    "x_train_forest_pi,x_test_forest_pi,y_train_forest_pi,y_test_forest_pi = train_test_split(x_forest_pi,y_forest_pi,test_size=0.2,random_state=1111)\n",
    "\n",
    "    "
   ]
  },
  {
   "cell_type": "code",
   "execution_count": 70,
   "metadata": {},
   "outputs": [
    {
     "name": "stdout",
     "output_type": "stream",
     "text": [
      "              precision    recall  f1-score   support\n",
      "\n",
      "           0       0.89      0.90      0.89     15130\n",
      "           1       0.83      0.80      0.81      8748\n",
      "\n",
      "    accuracy                           0.86     23878\n",
      "   macro avg       0.86      0.85      0.85     23878\n",
      "weighted avg       0.86      0.86      0.86     23878\n",
      "\n",
      "0.8646871597286205\n"
     ]
    }
   ],
   "source": [
    "forest_10_features_pi = RandomForestClassifier(random_state=1111)\n",
    "forest_10_features_pi.fit(x_train_forest_pi,y_train_forest_pi)\n",
    "y_pred_forest_pi = forest_10_features_pi.predict(x_test_forest_pi)\n",
    "\n",
    "print(classification_report(np.array(y_test_forest_pi),np.array(y_pred_forest_pi)))\n",
    "print(accuracy_score(y_pred_forest_pi,y_test_forest_pi))"
   ]
  },
  {
   "cell_type": "markdown",
   "metadata": {},
   "source": [
    "## 5. Retrain XGB Classifier with the 10 Most Important Features"
   ]
  },
  {
   "cell_type": "markdown",
   "metadata": {},
   "source": [
    "Using The 10 Most Important Features from Scikit-learn's Feature Importance"
   ]
  },
  {
   "cell_type": "code",
   "execution_count": 71,
   "metadata": {},
   "outputs": [],
   "source": [
    "#retrain with most important features\n",
    "x_xgb=df[['DepositType_Non Refund     ', 'RequiredCarParkingSpaces', 'PreviousCancellations', 'MarketSegment_Online TA',\n",
    "         'CustomerType_Transient', 'Agent', 'TotalOfSpecialRequests', 'CustomerType_Transient-Party',\n",
    "         'PreviousBookingsNotCanceled', 'MarketSegment_Offline TA/TO']]\n",
    "y_xgb=df[['IsCanceled']]\n",
    "\n",
    "from sklearn.model_selection import train_test_split\n",
    "x_train_xgb,x_test_xgb,y_train_xgb,y_test_xgb = train_test_split(x_xgb,y_xgb,test_size=0.2,random_state=1111)"
   ]
  },
  {
   "cell_type": "code",
   "execution_count": 73,
   "metadata": {},
   "outputs": [
    {
     "name": "stdout",
     "output_type": "stream",
     "text": [
      "              precision    recall  f1-score   support\n",
      "\n",
      "           0       0.80      0.93      0.86     15130\n",
      "           1       0.83      0.60      0.70      8748\n",
      "\n",
      "    accuracy                           0.81     23878\n",
      "   macro avg       0.82      0.77      0.78     23878\n",
      "weighted avg       0.81      0.81      0.80     23878\n",
      "\n",
      "0.8101181003434124\n"
     ]
    }
   ],
   "source": [
    "from xgboost import XGBClassifier\n",
    "xgb_model_10_features_sk = XGBClassifier()\n",
    "xgb_model_10_features_sk.fit(x_train_xgb, y_train_xgb)\n",
    "y_pred_xgb = xgb_model_10_features_sk.predict(x_test_xgb)\n",
    "\n",
    "print(classification_report(np.array(y_test_xgb),np.array(y_pred_xgb)))\n",
    "print(accuracy_score(y_pred_xgb,y_test_xgb))"
   ]
  },
  {
   "cell_type": "markdown",
   "metadata": {},
   "source": [
    "Using The 10 Most Important Features from Permutation Importance"
   ]
  },
  {
   "cell_type": "code",
   "execution_count": 74,
   "metadata": {},
   "outputs": [],
   "source": [
    "x_xgb_pi=df[['Country', 'LeadTime', 'Agent', 'TotalOfSpecialRequests', 'AssignedRoomType', 'ReservedRoomType',\n",
    "             'DepositType_Non Refund     ', 'PreviousCancellations', 'ArrivalDateYear', 'ADR']]\n",
    "y_xgb_pi=df[['IsCanceled']]\n",
    "\n",
    "from sklearn.model_selection import train_test_split\n",
    "x_train_xgb_pi,x_test_xgb_pi,y_train_xgb_pi,y_test_xgb_pi = train_test_split(x_xgb_pi,y_xgb_pi,test_size=0.2,random_state=1111)\n",
    "\n",
    "    "
   ]
  },
  {
   "cell_type": "code",
   "execution_count": 75,
   "metadata": {},
   "outputs": [
    {
     "name": "stdout",
     "output_type": "stream",
     "text": [
      "              precision    recall  f1-score   support\n",
      "\n",
      "           0       0.87      0.91      0.89     15130\n",
      "           1       0.84      0.77      0.80      8748\n",
      "\n",
      "    accuracy                           0.86     23878\n",
      "   macro avg       0.85      0.84      0.85     23878\n",
      "weighted avg       0.86      0.86      0.86     23878\n",
      "\n",
      "0.8605829633972695\n"
     ]
    }
   ],
   "source": [
    "from xgboost import XGBClassifier\n",
    "xgb_model_10_features_pi = XGBClassifier()\n",
    "xgb_model_10_features_pi.fit(x_train_xgb_pi, y_train_xgb_pi)\n",
    "y_pred_xgb_pi = xgb_model_10_features_pi.predict(x_test_xgb_pi)\n",
    "\n",
    "print(classification_report(np.array(y_test_xgb_pi),np.array(y_pred_xgb_pi)))\n",
    "print(accuracy_score(y_pred_xgb_pi,y_test_xgb_pi))"
   ]
  },
  {
   "cell_type": "code",
   "execution_count": null,
   "metadata": {},
   "outputs": [],
   "source": []
  }
 ],
 "metadata": {
  "kernelspec": {
   "display_name": "Python 3",
   "language": "python",
   "name": "python3"
  },
  "language_info": {
   "codemirror_mode": {
    "name": "ipython",
    "version": 3
   },
   "file_extension": ".py",
   "mimetype": "text/x-python",
   "name": "python",
   "nbconvert_exporter": "python",
   "pygments_lexer": "ipython3",
   "version": "3.7.6"
  }
 },
 "nbformat": 4,
 "nbformat_minor": 2
}
